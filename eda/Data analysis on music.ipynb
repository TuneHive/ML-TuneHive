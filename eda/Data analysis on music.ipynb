{
 "cells": [
  {
   "cell_type": "code",
   "execution_count": 1,
   "metadata": {
    "cell_id": "f0057be7c40b4a50aaf77e0352a884af",
    "deepnote_cell_type": "code",
    "execution_context_id": "9e9758dd-d6d1-4fbf-bfc9-7df99f4931a8",
    "execution_millis": 1527,
    "execution_start": 1732292463165,
    "source_hash": "2c6f8d73"
   },
   "outputs": [],
   "source": [
    "import pandas as pd\n",
    "import matplotlib.pyplot as plt\n",
    "import numpy as np"
   ]
  },
  {
   "cell_type": "code",
   "execution_count": 2,
   "metadata": {
    "cell_id": "cbcaf89bef1e4148930f7ed9f7291294",
    "deepnote_cell_type": "code",
    "execution_context_id": "9e9758dd-d6d1-4fbf-bfc9-7df99f4931a8",
    "execution_millis": 1341,
    "execution_start": 1732292464741,
    "source_hash": "b376787"
   },
   "outputs": [],
   "source": [
    "top_10000_train = pd.read_csv('top_10000_1950-now.csv')\n",
    "user_history_train = pd.read_json('user_history.json')\n"
   ]
  },
  {
   "cell_type": "code",
   "execution_count": 3,
   "metadata": {
    "cell_id": "405dd5087f0748389839b60417146aa4",
    "deepnote_cell_type": "code",
    "execution_context_id": "9e9758dd-d6d1-4fbf-bfc9-7df99f4931a8",
    "execution_millis": 59,
    "execution_start": 1732292466129,
    "source_hash": "d97be15c"
   },
   "outputs": [
    {
     "data": {
      "application/vnd.deepnote.dataframe.v3+json": {
       "column_count": 35,
       "columns": [
        {
         "dtype": "object",
         "name": "Track URI",
         "stats": {
          "categories": [
           {
            "count": 1,
            "name": "spotify:track:0vNPJrUrBnMFdCs8b2MTNG"
           },
           {
            "count": 1,
            "name": "spotify:track:0NpvdCO506uO58D4AbKzki"
           },
           {
            "count": 8,
            "name": "8 others"
           }
          ],
          "nan_count": 0,
          "unique_count": 10
         }
        },
        {
         "dtype": "object",
         "name": "Track Name",
         "stats": {
          "categories": [
           {
            "count": 1,
            "name": "Fader"
           },
           {
            "count": 1,
            "name": "Sherry"
           },
           {
            "count": 8,
            "name": "8 others"
           }
          ],
          "nan_count": 0,
          "unique_count": 10
         }
        },
        {
         "dtype": "object",
         "name": "Artist URI(s)",
         "stats": {
          "categories": [
           {
            "count": 1,
            "name": "spotify:artist:4W48hZAnAHVOC2c8WH8pcq"
           },
           {
            "count": 1,
            "name": "spotify:artist:6mcrZQmgzFGRWf7C0SObou"
           },
           {
            "count": 8,
            "name": "8 others"
           }
          ],
          "nan_count": 0,
          "unique_count": 10
         }
        },
        {
         "dtype": "object",
         "name": "Artist Name(s)",
         "stats": {
          "categories": [
           {
            "count": 1,
            "name": "The Temper Trap"
           },
           {
            "count": 1,
            "name": "Frankie Valli & The Four Seasons"
           },
           {
            "count": 8,
            "name": "8 others"
           }
          ],
          "nan_count": 0,
          "unique_count": 10
         }
        },
        {
         "dtype": "object",
         "name": "Album URI",
         "stats": {
          "categories": [
           {
            "count": 1,
            "name": "spotify:album:0V59MMtgoruvEqMv18KAOH"
           },
           {
            "count": 1,
            "name": "spotify:album:0NUEQILaBzavnzcMEs4buZ"
           },
           {
            "count": 8,
            "name": "8 others"
           }
          ],
          "nan_count": 0,
          "unique_count": 10
         }
        },
        {
         "dtype": "object",
         "name": "Album Name",
         "stats": {
          "categories": [
           {
            "count": 1,
            "name": "Conditions (Tour Edition)"
           },
           {
            "count": 1,
            "name": "The Very Best of Frankie Valli & The 4 Seasons"
           },
           {
            "count": 8,
            "name": "8 others"
           }
          ],
          "nan_count": 0,
          "unique_count": 10
         }
        },
        {
         "dtype": "object",
         "name": "Album Artist URI(s)",
         "stats": {
          "categories": [
           {
            "count": 1,
            "name": "spotify:artist:4W48hZAnAHVOC2c8WH8pcq"
           },
           {
            "count": 1,
            "name": "spotify:artist:6mcrZQmgzFGRWf7C0SObou"
           },
           {
            "count": 8,
            "name": "8 others"
           }
          ],
          "nan_count": 0,
          "unique_count": 10
         }
        },
        {
         "dtype": "object",
         "name": "Album Artist Name(s)",
         "stats": {
          "categories": [
           {
            "count": 1,
            "name": "The Temper Trap"
           },
           {
            "count": 1,
            "name": "Frankie Valli & The Four Seasons"
           },
           {
            "count": 8,
            "name": "8 others"
           }
          ],
          "nan_count": 0,
          "unique_count": 10
         }
        },
        {
         "dtype": "object",
         "name": "Album Release Date",
         "stats": {
          "categories": [
           {
            "count": 1,
            "name": "2009"
           },
           {
            "count": 1,
            "name": "2003-01-14"
           },
           {
            "count": 8,
            "name": "8 others"
           }
          ],
          "nan_count": 0,
          "unique_count": 10
         }
        },
        {
         "dtype": "object",
         "name": "Album Image URL",
         "stats": {
          "categories": [
           {
            "count": 1,
            "name": "https://i.scdn.co/image/ab67616d0000b273f86ae86dfa3919c5acba68f0"
           },
           {
            "count": 1,
            "name": "https://i.scdn.co/image/ab67616d0000b273b96c21e15c091eb98a6c88a4"
           },
           {
            "count": 8,
            "name": "8 others"
           }
          ],
          "nan_count": 0,
          "unique_count": 10
         }
        },
        {
         "dtype": "int64",
         "name": "Disc Number",
         "stats": {
          "histogram": [
           {
            "bin_end": 0.6,
            "bin_start": 0.5,
            "count": 0
           },
           {
            "bin_end": 0.7,
            "bin_start": 0.6,
            "count": 0
           },
           {
            "bin_end": 0.8,
            "bin_start": 0.7,
            "count": 0
           },
           {
            "bin_end": 0.9,
            "bin_start": 0.8,
            "count": 0
           },
           {
            "bin_end": 1,
            "bin_start": 0.9,
            "count": 0
           },
           {
            "bin_end": 1.1,
            "bin_start": 1,
            "count": 10
           },
           {
            "bin_end": 1.2000000000000002,
            "bin_start": 1.1,
            "count": 0
           },
           {
            "bin_end": 1.3,
            "bin_start": 1.2000000000000002,
            "count": 0
           },
           {
            "bin_end": 1.4,
            "bin_start": 1.3,
            "count": 0
           },
           {
            "bin_end": 1.5,
            "bin_start": 1.4,
            "count": 0
           }
          ],
          "max": "1",
          "min": "1",
          "nan_count": 0,
          "unique_count": 1
         }
        },
        {
         "dtype": "int64",
         "name": "Track Number",
         "stats": {
          "histogram": [
           {
            "bin_end": 2.2,
            "bin_start": 1,
            "count": 2
           },
           {
            "bin_end": 3.4,
            "bin_start": 2.2,
            "count": 1
           },
           {
            "bin_end": 4.6,
            "bin_start": 3.4,
            "count": 1
           },
           {
            "bin_end": 5.8,
            "bin_start": 4.6,
            "count": 2
           },
           {
            "bin_end": 7,
            "bin_start": 5.8,
            "count": 1
           },
           {
            "bin_end": 8.2,
            "bin_start": 7,
            "count": 2
           },
           {
            "bin_end": 9.4,
            "bin_start": 8.2,
            "count": 0
           },
           {
            "bin_end": 10.6,
            "bin_start": 9.4,
            "count": 0
           },
           {
            "bin_end": 11.799999999999999,
            "bin_start": 10.6,
            "count": 0
           },
           {
            "bin_end": 13,
            "bin_start": 11.799999999999999,
            "count": 1
           }
          ],
          "max": "13",
          "min": "1",
          "nan_count": 0,
          "unique_count": 7
         }
        },
        {
         "dtype": "int64",
         "name": "Track Duration (ms)",
         "stats": {
          "histogram": [
           {
            "bin_end": 166497.3,
            "bin_start": 152160,
            "count": 2
           },
           {
            "bin_end": 180834.6,
            "bin_start": 166497.3,
            "count": 1
           },
           {
            "bin_end": 195171.9,
            "bin_start": 180834.6,
            "count": 2
           },
           {
            "bin_end": 209509.2,
            "bin_start": 195171.9,
            "count": 1
           },
           {
            "bin_end": 223846.5,
            "bin_start": 209509.2,
            "count": 1
           },
           {
            "bin_end": 238183.8,
            "bin_start": 223846.5,
            "count": 0
           },
           {
            "bin_end": 252521.09999999998,
            "bin_start": 238183.8,
            "count": 1
           },
           {
            "bin_end": 266858.4,
            "bin_start": 252521.09999999998,
            "count": 1
           },
           {
            "bin_end": 281195.7,
            "bin_start": 266858.4,
            "count": 0
           },
           {
            "bin_end": 295533,
            "bin_start": 281195.7,
            "count": 1
           }
          ],
          "max": "295533",
          "min": "152160",
          "nan_count": 0,
          "unique_count": 10
         }
        },
        {
         "dtype": "object",
         "name": "Track Preview URL",
         "stats": {
          "categories": [
           {
            "count": 1,
            "name": "https://p.scdn.co/mp3-preview/14264bd1501d27236aaa250633253911b2f3de50?cid=9950ac751e34487dbbe027c4fd7f8e99"
           },
           {
            "count": 1,
            "name": "https://p.scdn.co/mp3-preview/e3f765262ebc349e663182d0e19bb24766314f39?cid=9950ac751e34487dbbe027c4fd7f8e99"
           },
           {
            "count": 8,
            "name": "8 others"
           }
          ],
          "nan_count": 0,
          "unique_count": 10
         }
        },
        {
         "dtype": "bool",
         "name": "Explicit",
         "stats": {
          "categories": [
           {
            "count": 9,
            "name": "False"
           },
           {
            "count": 1,
            "name": "True"
           }
          ],
          "nan_count": 0,
          "unique_count": 2
         }
        },
        {
         "dtype": "int64",
         "name": "Popularity",
         "stats": {
          "histogram": [
           {
            "bin_end": 8.3,
            "bin_start": 0,
            "count": 2
           },
           {
            "bin_end": 16.6,
            "bin_start": 8.3,
            "count": 0
           },
           {
            "bin_end": 24.900000000000002,
            "bin_start": 16.6,
            "count": 0
           },
           {
            "bin_end": 33.2,
            "bin_start": 24.900000000000002,
            "count": 0
           },
           {
            "bin_end": 41.5,
            "bin_start": 33.2,
            "count": 2
           },
           {
            "bin_end": 49.800000000000004,
            "bin_start": 41.5,
            "count": 1
           },
           {
            "bin_end": 58.10000000000001,
            "bin_start": 49.800000000000004,
            "count": 2
           },
           {
            "bin_end": 66.4,
            "bin_start": 58.10000000000001,
            "count": 2
           },
           {
            "bin_end": 74.7,
            "bin_start": 66.4,
            "count": 0
           },
           {
            "bin_end": 83,
            "bin_start": 74.7,
            "count": 1
           }
          ],
          "max": "83",
          "min": "0",
          "nan_count": 0,
          "unique_count": 10
         }
        },
        {
         "dtype": "object",
         "name": "ISRC",
         "stats": {
          "categories": [
           {
            "count": 1,
            "name": "GBZUZ0900014"
           },
           {
            "count": 1,
            "name": "USRH10175197"
           },
           {
            "count": 8,
            "name": "8 others"
           }
          ],
          "nan_count": 0,
          "unique_count": 10
         }
        },
        {
         "dtype": "object",
         "name": "Added By",
         "stats": {
          "categories": [
           {
            "count": 10,
            "name": "spotify:user:bradnumber1"
           }
          ],
          "nan_count": 0,
          "unique_count": 1
         }
        },
        {
         "dtype": "object",
         "name": "Added At",
         "stats": {
          "categories": [
           {
            "count": 9,
            "name": "2021-08-08T09:26:31Z"
           },
           {
            "count": 1,
            "name": "2021-11-17T22:21:05Z"
           }
          ],
          "nan_count": 0,
          "unique_count": 2
         }
        },
        {
         "dtype": "object",
         "name": "Artist Genres",
         "stats": {
          "categories": [
           {
            "count": 1,
            "name": "indietronica,modern rock,shimmer pop"
           },
           {
            "count": 1,
            "name": "adult standards,bubblegum pop,doo-wop,lounge,northern soul,rock-and-roll,rockabilly"
           },
           {
            "count": 8,
            "name": "8 others"
           }
          ],
          "nan_count": 0,
          "unique_count": 10
         }
        },
        {
         "dtype": "float64",
         "name": "Danceability",
         "stats": {
          "histogram": [
           {
            "bin_end": 0.2734,
            "bin_start": 0.209,
            "count": 1
           },
           {
            "bin_end": 0.3378,
            "bin_start": 0.2734,
            "count": 1
           },
           {
            "bin_end": 0.4022,
            "bin_start": 0.3378,
            "count": 0
           },
           {
            "bin_end": 0.4666,
            "bin_start": 0.4022,
            "count": 0
           },
           {
            "bin_end": 0.531,
            "bin_start": 0.4666,
            "count": 0
           },
           {
            "bin_end": 0.5953999999999999,
            "bin_start": 0.531,
            "count": 2
           },
           {
            "bin_end": 0.6597999999999999,
            "bin_start": 0.5953999999999999,
            "count": 0
           },
           {
            "bin_end": 0.7242,
            "bin_start": 0.6597999999999999,
            "count": 3
           },
           {
            "bin_end": 0.7886,
            "bin_start": 0.7242,
            "count": 1
           },
           {
            "bin_end": 0.853,
            "bin_start": 0.7886,
            "count": 2
           }
          ],
          "max": "0.853",
          "min": "0.209",
          "nan_count": 0,
          "unique_count": 9
         }
        },
        {
         "dtype": "float64",
         "name": "Energy",
         "stats": {
          "histogram": [
           {
            "bin_end": 0.4561,
            "bin_start": 0.417,
            "count": 1
           },
           {
            "bin_end": 0.4952,
            "bin_start": 0.4561,
            "count": 2
           },
           {
            "bin_end": 0.5343,
            "bin_start": 0.4952,
            "count": 1
           },
           {
            "bin_end": 0.5734,
            "bin_start": 0.5343,
            "count": 1
           },
           {
            "bin_end": 0.6125,
            "bin_start": 0.5734,
            "count": 1
           },
           {
            "bin_end": 0.6516000000000001,
            "bin_start": 0.6125,
            "count": 1
           },
           {
            "bin_end": 0.6907000000000001,
            "bin_start": 0.6516000000000001,
            "count": 0
           },
           {
            "bin_end": 0.7298,
            "bin_start": 0.6907000000000001,
            "count": 1
           },
           {
            "bin_end": 0.7689000000000001,
            "bin_start": 0.7298,
            "count": 1
           },
           {
            "bin_end": 0.808,
            "bin_start": 0.7689000000000001,
            "count": 1
           }
          ],
          "max": "0.808",
          "min": "0.417",
          "nan_count": 0,
          "unique_count": 10
         }
        },
        {
         "dtype": "float64",
         "name": "Key",
         "stats": {
          "histogram": [
           {
            "bin_end": 1.1,
            "bin_start": 0,
            "count": 3
           },
           {
            "bin_end": 2.2,
            "bin_start": 1.1,
            "count": 0
           },
           {
            "bin_end": 3.3000000000000003,
            "bin_start": 2.2,
            "count": 1
           },
           {
            "bin_end": 4.4,
            "bin_start": 3.3000000000000003,
            "count": 0
           },
           {
            "bin_end": 5.5,
            "bin_start": 4.4,
            "count": 0
           },
           {
            "bin_end": 6.6000000000000005,
            "bin_start": 5.5,
            "count": 0
           },
           {
            "bin_end": 7.700000000000001,
            "bin_start": 6.6000000000000005,
            "count": 3
           },
           {
            "bin_end": 8.8,
            "bin_start": 7.700000000000001,
            "count": 1
           },
           {
            "bin_end": 9.9,
            "bin_start": 8.8,
            "count": 1
           },
           {
            "bin_end": 11,
            "bin_start": 9.9,
            "count": 1
           }
          ],
          "max": "11.0",
          "min": "0.0",
          "nan_count": 0,
          "unique_count": 7
         }
        },
        {
         "dtype": "float64",
         "name": "Loudness",
         "stats": {
          "histogram": [
           {
            "bin_end": -9.3865,
            "bin_start": -9.78,
            "count": 1
           },
           {
            "bin_end": -8.992999999999999,
            "bin_start": -9.3865,
            "count": 0
           },
           {
            "bin_end": -8.599499999999999,
            "bin_start": -8.992999999999999,
            "count": 1
           },
           {
            "bin_end": -8.206,
            "bin_start": -8.599499999999999,
            "count": 0
           },
           {
            "bin_end": -7.8125,
            "bin_start": -8.206,
            "count": 1
           },
           {
            "bin_end": -7.419,
            "bin_start": -7.8125,
            "count": 0
           },
           {
            "bin_end": -7.025499999999999,
            "bin_start": -7.419,
            "count": 3
           },
           {
            "bin_end": -6.632,
            "bin_start": -7.025499999999999,
            "count": 1
           },
           {
            "bin_end": -6.2385,
            "bin_start": -6.632,
            "count": 1
           },
           {
            "bin_end": -5.845,
            "bin_start": -6.2385,
            "count": 2
           }
          ],
          "max": "-5.845",
          "min": "-9.78",
          "nan_count": 0,
          "unique_count": 10
         }
        },
        {
         "dtype": "float64",
         "name": "Mode",
         "stats": {
          "histogram": [
           {
            "bin_end": 0.1,
            "bin_start": 0,
            "count": 4
           },
           {
            "bin_end": 0.2,
            "bin_start": 0.1,
            "count": 0
           },
           {
            "bin_end": 0.30000000000000004,
            "bin_start": 0.2,
            "count": 0
           },
           {
            "bin_end": 0.4,
            "bin_start": 0.30000000000000004,
            "count": 0
           },
           {
            "bin_end": 0.5,
            "bin_start": 0.4,
            "count": 0
           },
           {
            "bin_end": 0.6000000000000001,
            "bin_start": 0.5,
            "count": 0
           },
           {
            "bin_end": 0.7000000000000001,
            "bin_start": 0.6000000000000001,
            "count": 0
           },
           {
            "bin_end": 0.8,
            "bin_start": 0.7000000000000001,
            "count": 0
           },
           {
            "bin_end": 0.9,
            "bin_start": 0.8,
            "count": 0
           },
           {
            "bin_end": 1,
            "bin_start": 0.9,
            "count": 6
           }
          ],
          "max": "1.0",
          "min": "0.0",
          "nan_count": 0,
          "unique_count": 2
         }
        },
        {
         "dtype": "float64",
         "name": "Speechiness",
         "stats": {
          "histogram": [
           {
            "bin_end": 0.03342,
            "bin_start": 0.0248,
            "count": 2
           },
           {
            "bin_end": 0.042039999999999994,
            "bin_start": 0.03342,
            "count": 3
           },
           {
            "bin_end": 0.05066,
            "bin_start": 0.042039999999999994,
            "count": 1
           },
           {
            "bin_end": 0.05928,
            "bin_start": 0.05066,
            "count": 1
           },
           {
            "bin_end": 0.0679,
            "bin_start": 0.05928,
            "count": 2
           },
           {
            "bin_end": 0.07651999999999999,
            "bin_start": 0.0679,
            "count": 0
           },
           {
            "bin_end": 0.08514,
            "bin_start": 0.07651999999999999,
            "count": 0
           },
           {
            "bin_end": 0.09376,
            "bin_start": 0.08514,
            "count": 0
           },
           {
            "bin_end": 0.10238,
            "bin_start": 0.09376,
            "count": 0
           },
           {
            "bin_end": 0.111,
            "bin_start": 0.10238,
            "count": 1
           }
          ],
          "max": "0.111",
          "min": "0.0248",
          "nan_count": 0,
          "unique_count": 10
         }
        },
        {
         "dtype": "float64",
         "name": "Acousticness",
         "stats": {
          "histogram": [
           {
            "bin_end": 0.06269090000000001,
            "bin_start": 0.000101,
            "count": 3
           },
           {
            "bin_end": 0.1252808,
            "bin_start": 0.06269090000000001,
            "count": 0
           },
           {
            "bin_end": 0.1878707,
            "bin_start": 0.1252808,
            "count": 3
           },
           {
            "bin_end": 0.25046060000000003,
            "bin_start": 0.1878707,
            "count": 0
           },
           {
            "bin_end": 0.3130505,
            "bin_start": 0.25046060000000003,
            "count": 0
           },
           {
            "bin_end": 0.37564040000000004,
            "bin_start": 0.3130505,
            "count": 0
           },
           {
            "bin_end": 0.4382303000000001,
            "bin_start": 0.37564040000000004,
            "count": 0
           },
           {
            "bin_end": 0.5008202,
            "bin_start": 0.4382303000000001,
            "count": 1
           },
           {
            "bin_end": 0.5634101,
            "bin_start": 0.5008202,
            "count": 1
           },
           {
            "bin_end": 0.626,
            "bin_start": 0.5634101,
            "count": 2
           }
          ],
          "max": "0.626",
          "min": "0.000101",
          "nan_count": 0,
          "unique_count": 10
         }
        },
        {
         "dtype": "float64",
         "name": "Instrumentalness",
         "stats": {
          "histogram": [
           {
            "bin_end": 0.06899999999999999,
            "bin_start": 0,
            "count": 9
           },
           {
            "bin_end": 0.13799999999999998,
            "bin_start": 0.06899999999999999,
            "count": 0
           },
           {
            "bin_end": 0.20699999999999996,
            "bin_start": 0.13799999999999998,
            "count": 0
           },
           {
            "bin_end": 0.27599999999999997,
            "bin_start": 0.20699999999999996,
            "count": 0
           },
           {
            "bin_end": 0.345,
            "bin_start": 0.27599999999999997,
            "count": 0
           },
           {
            "bin_end": 0.4139999999999999,
            "bin_start": 0.345,
            "count": 0
           },
           {
            "bin_end": 0.48299999999999993,
            "bin_start": 0.4139999999999999,
            "count": 0
           },
           {
            "bin_end": 0.5519999999999999,
            "bin_start": 0.48299999999999993,
            "count": 0
           },
           {
            "bin_end": 0.6209999999999999,
            "bin_start": 0.5519999999999999,
            "count": 0
           },
           {
            "bin_end": 0.69,
            "bin_start": 0.6209999999999999,
            "count": 1
           }
          ],
          "max": "0.69",
          "min": "0.0",
          "nan_count": 0,
          "unique_count": 7
         }
        },
        {
         "dtype": "float64",
         "name": "Liveness",
         "stats": {
          "histogram": [
           {
            "bin_end": 0.08506,
            "bin_start": 0.0564,
            "count": 4
           },
           {
            "bin_end": 0.11372,
            "bin_start": 0.08506,
            "count": 3
           },
           {
            "bin_end": 0.14238,
            "bin_start": 0.11372,
            "count": 1
           },
           {
            "bin_end": 0.17104,
            "bin_start": 0.14238,
            "count": 0
           },
           {
            "bin_end": 0.19970000000000002,
            "bin_start": 0.17104,
            "count": 0
           },
           {
            "bin_end": 0.22836,
            "bin_start": 0.19970000000000002,
            "count": 0
           },
           {
            "bin_end": 0.25702,
            "bin_start": 0.22836,
            "count": 0
           },
           {
            "bin_end": 0.28568,
            "bin_start": 0.25702,
            "count": 0
           },
           {
            "bin_end": 0.31434,
            "bin_start": 0.28568,
            "count": 0
           },
           {
            "bin_end": 0.343,
            "bin_start": 0.31434,
            "count": 2
           }
          ],
          "max": "0.343",
          "min": "0.0564",
          "nan_count": 0,
          "unique_count": 9
         }
        },
        {
         "dtype": "float64",
         "name": "Valence",
         "stats": {
          "histogram": [
           {
            "bin_end": 0.2074,
            "bin_start": 0.124,
            "count": 3
           },
           {
            "bin_end": 0.2908,
            "bin_start": 0.2074,
            "count": 0
           },
           {
            "bin_end": 0.3742,
            "bin_start": 0.2908,
            "count": 1
           },
           {
            "bin_end": 0.4576,
            "bin_start": 0.3742,
            "count": 0
           },
           {
            "bin_end": 0.541,
            "bin_start": 0.4576,
            "count": 1
           },
           {
            "bin_end": 0.6244,
            "bin_start": 0.541,
            "count": 1
           },
           {
            "bin_end": 0.7078,
            "bin_start": 0.6244,
            "count": 0
           },
           {
            "bin_end": 0.7912,
            "bin_start": 0.7078,
            "count": 3
           },
           {
            "bin_end": 0.8746,
            "bin_start": 0.7912,
            "count": 0
           },
           {
            "bin_end": 0.958,
            "bin_start": 0.8746,
            "count": 1
           }
          ],
          "max": "0.958",
          "min": "0.124",
          "nan_count": 0,
          "unique_count": 10
         }
        },
        {
         "dtype": "float64",
         "name": "Tempo",
         "stats": {
          "histogram": [
           {
            "bin_end": 105.7785,
            "bin_start": 101.969,
            "count": 1
           },
           {
            "bin_end": 109.588,
            "bin_start": 105.7785,
            "count": 0
           },
           {
            "bin_end": 113.3975,
            "bin_start": 109.588,
            "count": 1
           },
           {
            "bin_end": 117.207,
            "bin_start": 113.3975,
            "count": 0
           },
           {
            "bin_end": 121.0165,
            "bin_start": 117.207,
            "count": 4
           },
           {
            "bin_end": 124.826,
            "bin_start": 121.0165,
            "count": 0
           },
           {
            "bin_end": 128.63549999999998,
            "bin_start": 124.826,
            "count": 0
           },
           {
            "bin_end": 132.445,
            "bin_start": 128.63549999999998,
            "count": 1
           },
           {
            "bin_end": 136.2545,
            "bin_start": 132.445,
            "count": 1
           },
           {
            "bin_end": 140.064,
            "bin_start": 136.2545,
            "count": 2
           }
          ],
          "max": "140.064",
          "min": "101.969",
          "nan_count": 0,
          "unique_count": 10
         }
        },
        {
         "dtype": "float64",
         "name": "Time Signature",
         "stats": {
          "histogram": [
           {
            "bin_end": 3.6,
            "bin_start": 3.5,
            "count": 0
           },
           {
            "bin_end": 3.7,
            "bin_start": 3.6,
            "count": 0
           },
           {
            "bin_end": 3.8,
            "bin_start": 3.7,
            "count": 0
           },
           {
            "bin_end": 3.9,
            "bin_start": 3.8,
            "count": 0
           },
           {
            "bin_end": 4,
            "bin_start": 3.9,
            "count": 0
           },
           {
            "bin_end": 4.1,
            "bin_start": 4,
            "count": 10
           },
           {
            "bin_end": 4.2,
            "bin_start": 4.1,
            "count": 0
           },
           {
            "bin_end": 4.3,
            "bin_start": 4.2,
            "count": 0
           },
           {
            "bin_end": 4.4,
            "bin_start": 4.3,
            "count": 0
           },
           {
            "bin_end": 4.5,
            "bin_start": 4.4,
            "count": 0
           }
          ],
          "max": "4.0",
          "min": "4.0",
          "nan_count": 0,
          "unique_count": 1
         }
        },
        {
         "dtype": "float64",
         "name": "Album Genres",
         "stats": {
          "histogram": [
           {
            "bin_end": 0.1,
            "bin_start": 0,
            "count": 0
           },
           {
            "bin_end": 0.2,
            "bin_start": 0.1,
            "count": 0
           },
           {
            "bin_end": 0.30000000000000004,
            "bin_start": 0.2,
            "count": 0
           },
           {
            "bin_end": 0.4,
            "bin_start": 0.30000000000000004,
            "count": 0
           },
           {
            "bin_end": 0.5,
            "bin_start": 0.4,
            "count": 0
           },
           {
            "bin_end": 0.6000000000000001,
            "bin_start": 0.5,
            "count": 0
           },
           {
            "bin_end": 0.7000000000000001,
            "bin_start": 0.6000000000000001,
            "count": 0
           },
           {
            "bin_end": 0.8,
            "bin_start": 0.7000000000000001,
            "count": 0
           },
           {
            "bin_end": 0.9,
            "bin_start": 0.8,
            "count": 0
           },
           {
            "bin_end": 1,
            "bin_start": 0.9,
            "count": 0
           }
          ],
          "max": null,
          "min": null,
          "nan_count": 10,
          "unique_count": 0
         }
        },
        {
         "dtype": "object",
         "name": "Label",
         "stats": {
          "categories": [
           {
            "count": 2,
            "name": "A&M"
           },
           {
            "count": 1,
            "name": "Liberation Records"
           },
           {
            "count": 7,
            "name": "7 others"
           }
          ],
          "nan_count": 0,
          "unique_count": 9
         }
        },
        {
         "dtype": "object",
         "name": "Copyrights",
         "stats": {
          "categories": [
           {
            "count": 1,
            "name": "C 2010 Liberation Music, P 2010 Liberation Music"
           },
           {
            "count": 1,
            "name": "C © 2004 Bob Gaudio & Frankie Valli d/b/a The 4 Seasons Partnership, by arrangement with Warner Special Products, P ℗ 2004 Bob Gaudio & Frankie Valli d/b/a The 4 Seasons Partnership, by arrangement with Warner Special Products"
           },
           {
            "count": 8,
            "name": "8 others"
           }
          ],
          "nan_count": 0,
          "unique_count": 10
         }
        },
        {
         "dtype": "int64",
         "name": "_deepnote_index_column"
        }
       ],
       "row_count": 10,
       "rows": [
        {
         "Acousticness": 0.000101,
         "Added At": "2021-08-08T09:26:31Z",
         "Added By": "spotify:user:bradnumber1",
         "Album Artist Name(s)": "The Temper Trap",
         "Album Artist URI(s)": "spotify:artist:4W48hZAnAHVOC2c8WH8pcq",
         "Album Genres": "nan",
         "Album Image URL": "https://i.scdn.co/image/ab67616d0000b273f86ae86dfa3919c5acba68f0",
         "Album Name": "Conditions (Tour Edition)",
         "Album Release Date": "2009",
         "Album URI": "spotify:album:0V59MMtgoruvEqMv18KAOH",
         "Artist Genres": "indietronica,modern rock,shimmer pop",
         "Artist Name(s)": "The Temper Trap",
         "Artist URI(s)": "spotify:artist:4W48hZAnAHVOC2c8WH8pcq",
         "Copyrights": "C 2010 Liberation Music, P 2010 Liberation Music",
         "Danceability": 0.532,
         "Disc Number": 1,
         "Energy": 0.76,
         "Explicit": "False",
         "ISRC": "GBZUZ0900014",
         "Instrumentalness": 0.69,
         "Key": 11,
         "Label": "Liberation Records",
         "Liveness": 0.0752,
         "Loudness": -7.123,
         "Mode": 0,
         "Popularity": 0,
         "Speechiness": 0.0353,
         "Tempo": 134.974,
         "Time Signature": 4,
         "Track Duration (ms)": 192373,
         "Track Name": "Fader",
         "Track Number": 6,
         "Track Preview URL": "https://p.scdn.co/mp3-preview/14264bd1501d27236aaa250633253911b2f3de50?cid=9950ac751e34487dbbe027c4fd7f8e99",
         "Track URI": "spotify:track:0vNPJrUrBnMFdCs8b2MTNG",
         "Valence": 0.158,
         "_deepnote_index_column": 0
        },
        {
         "Acousticness": 0.626,
         "Added At": "2021-08-08T09:26:31Z",
         "Added By": "spotify:user:bradnumber1",
         "Album Artist Name(s)": "Frankie Valli & The Four Seasons",
         "Album Artist URI(s)": "spotify:artist:6mcrZQmgzFGRWf7C0SObou",
         "Album Genres": "nan",
         "Album Image URL": "https://i.scdn.co/image/ab67616d0000b273b96c21e15c091eb98a6c88a4",
         "Album Name": "The Very Best of Frankie Valli & The 4 Seasons",
         "Album Release Date": "2003-01-14",
         "Album URI": "spotify:album:0NUEQILaBzavnzcMEs4buZ",
         "Artist Genres": "adult standards,bubblegum pop,doo-wop,lounge,northern soul,rock-and-roll,rockabilly",
         "Artist Name(s)": "Frankie Valli & The Four Seasons",
         "Artist URI(s)": "spotify:artist:6mcrZQmgzFGRWf7C0SObou",
         "Copyrights": "C © 2004 Bob Gaudio & Frankie Valli d/b/a The 4 Seasons Partnership, by arrangement with Warner Special Products, P ℗ 2004 Bob Gaudio & Frankie Valli d/b/a The 4 Seasons Partnership, by arrangement with Warner Special Products",
         "Danceability": 0.703,
         "Disc Number": 1,
         "Energy": 0.478,
         "Explicit": "False",
         "ISRC": "USRH10175197",
         "Instrumentalness": 0,
         "Key": 7,
         "Label": "Rhino",
         "Liveness": 0.113,
         "Loudness": -8.062,
         "Mode": 1,
         "Popularity": 54,
         "Speechiness": 0.0441,
         "Tempo": 117.562,
         "Time Signature": 4,
         "Track Duration (ms)": 152160,
         "Track Name": "Sherry",
         "Track Number": 1,
         "Track Preview URL": "https://p.scdn.co/mp3-preview/e3f765262ebc349e663182d0e19bb24766314f39?cid=9950ac751e34487dbbe027c4fd7f8e99",
         "Track URI": "spotify:track:0NpvdCO506uO58D4AbKzki",
         "Valence": 0.734,
         "_deepnote_index_column": 1
        },
        {
         "Acousticness": 0.0353,
         "Added At": "2021-08-08T09:26:31Z",
         "Added By": "spotify:user:bradnumber1",
         "Album Artist Name(s)": "Mike Posner",
         "Album Artist URI(s)": "spotify:artist:2KsP6tYLJlTBvSUxnwlVWa",
         "Album Genres": "nan",
         "Album Image URL": "https://i.scdn.co/image/ab67616d0000b273a19be7aca4a1fcd6e8a42c62",
         "Album Name": "At Night, Alone.",
         "Album Release Date": "2016-05-06",
         "Album URI": "spotify:album:1Tz3Ai1guEFf4hV3d9i17K",
         "Artist Genres": "dance pop,pop,pop dance,pop rap,pop dance",
         "Artist Name(s)": "Mike Posner, Seeb",
         "Artist URI(s)": "spotify:artist:2KsP6tYLJlTBvSUxnwlVWa, spotify:artist:5iNrZmtVMtYev5M9yoWpEq",
         "Copyrights": "C © 2016 Island Records, a division of UMG Recordings, Inc., P ℗ 2016 Island Records, a division of UMG Recordings, Inc.",
         "Danceability": 0.664,
         "Disc Number": 1,
         "Energy": 0.714,
         "Explicit": "True",
         "ISRC": "USUM71509342",
         "Instrumentalness": 0.00000842,
         "Key": 7,
         "Label": "Monster Mountain, LLC / Island",
         "Liveness": 0.0843,
         "Loudness": -6.645,
         "Mode": 0,
         "Popularity": 63,
         "Speechiness": 0.111,
         "Tempo": 101.969,
         "Time Signature": 4,
         "Track Duration (ms)": 197933,
         "Track Name": "I Took A Pill In Ibiza - Seeb Remix",
         "Track Number": 13,
         "Track Preview URL": "https://p.scdn.co/mp3-preview/7bae6aac6d699135151854e9e3e5ae78f1a244f5?cid=9950ac751e34487dbbe027c4fd7f8e99",
         "Track URI": "spotify:track:1MtUq6Wp1eQ8PC6BbPCj8P",
         "Valence": 0.71,
         "_deepnote_index_column": 2
        },
        {
         "Acousticness": 0.0429,
         "Added At": "2021-08-08T09:26:31Z",
         "Added By": "spotify:user:bradnumber1",
         "Album Artist Name(s)": "Foxes",
         "Album Artist URI(s)": "spotify:artist:7qRll6DYV06u2VuRPAVqug",
         "Album Genres": "nan",
         "Album Image URL": "https://i.scdn.co/image/ab67616d0000b273ae5c7d20a58c6071b4571eff",
         "Album Name": "Glorious (Deluxe)",
         "Album Release Date": "2014-05-12",
         "Album URI": "spotify:album:5AQ7uKRSpAv7SNUl4j24ru",
         "Artist Genres": "electropop,metropopolis,uk pop",
         "Artist Name(s)": "Foxes",
         "Artist URI(s)": "spotify:artist:7qRll6DYV06u2VuRPAVqug",
         "Copyrights": "P (P) 2014 Sign Of The Times Limited under exclusive licence to Sony Music Entertainment UK Limited",
         "Danceability": 0.543,
         "Disc Number": 1,
         "Energy": 0.808,
         "Explicit": "False",
         "ISRC": "GBARL1301249",
         "Instrumentalness": 0.00000164,
         "Key": 9,
         "Label": "Sign Of The Times Records",
         "Liveness": 0.326,
         "Loudness": -6.615,
         "Mode": 0,
         "Popularity": 39,
         "Speechiness": 0.0632,
         "Tempo": 140.064,
         "Time Signature": 4,
         "Track Duration (ms)": 238413,
         "Track Name": "Let Go for Tonight",
         "Track Number": 5,
         "Track Preview URL": "https://p.scdn.co/mp3-preview/84a003d72f9f146831bbfa39587ebc50ee76e0f0?cid=9950ac751e34487dbbe027c4fd7f8e99",
         "Track URI": "spotify:track:59lq75uFIqzUZcgZ4CbqFG",
         "Valence": 0.299,
         "_deepnote_index_column": 3
        },
        {
         "Acousticness": 0.624,
         "Added At": "2021-08-08T09:26:31Z",
         "Added By": "spotify:user:bradnumber1",
         "Album Artist Name(s)": "Captain & Tennille",
         "Album Artist URI(s)": "spotify:artist:7BEfMxbaqx6dOpbtlEqScm",
         "Album Genres": "nan",
         "Album Image URL": "https://i.scdn.co/image/ab67616d0000b273e21a289d04d5f3d623807bee",
         "Album Name": "Love Will Keep Us Together",
         "Album Release Date": "1975-01-01",
         "Album URI": "spotify:album:3GUxesVyOehInaxJyCTh6d",
         "Artist Genres": "mellow gold,soft rock,yacht rock",
         "Artist Name(s)": "Captain & Tennille",
         "Artist URI(s)": "spotify:artist:7BEfMxbaqx6dOpbtlEqScm",
         "Copyrights": "C © 1975 A&M Records, P This Compilation ℗ 1975 A&M Records",
         "Danceability": 0.664,
         "Disc Number": 1,
         "Energy": 0.585,
         "Explicit": "False",
         "ISRC": "USAM10110025",
         "Instrumentalness": 0.000112,
         "Key": 0,
         "Label": "A&M",
         "Liveness": 0.343,
         "Loudness": -7.062,
         "Mode": 0,
         "Popularity": 35,
         "Speechiness": 0.0248,
         "Tempo": 111.29,
         "Time Signature": 4,
         "Track Duration (ms)": 163586,
         "Track Name": "The Way I Want To Touch You",
         "Track Number": 3,
         "Track Preview URL": "https://p.scdn.co/mp3-preview/9e7a4a7b7dc56dc3f08e1c9d84e78b52ddefb5cb?cid=9950ac751e34487dbbe027c4fd7f8e99",
         "Track URI": "spotify:track:7KdcZQ3GJeGdserhK61kfv",
         "Valence": 0.597,
         "_deepnote_index_column": 4
        },
        {
         "Acousticness": 0.131,
         "Added At": "2021-08-08T09:26:31Z",
         "Added By": "spotify:user:bradnumber1",
         "Album Artist Name(s)": "ZAYN",
         "Album Artist URI(s)": "spotify:artist:5ZsFI1h6hIdQRw2ti0hz81",
         "Album Genres": "nan",
         "Album Image URL": "https://i.scdn.co/image/ab67616d0000b2733bfd914f72da2ed8822a634f",
         "Album Name": "Still Got Time (feat. PARTYNEXTDOOR)",
         "Album Release Date": "2017-03-23",
         "Album URI": "spotify:album:2kGUeTGnkLOYlinKRJe47G",
         "Artist Genres": "pop,uk pop,r&b,rap,urban contemporary",
         "Artist Name(s)": "ZAYN, PARTYNEXTDOOR",
         "Artist URI(s)": "spotify:artist:5ZsFI1h6hIdQRw2ti0hz81, spotify:artist:2HPaUgqeutzr3jx5a9WyDV",
         "Copyrights": "P (P) 2017 RCA Records, a division of Sony Music Entertainment",
         "Danceability": 0.748,
         "Disc Number": 1,
         "Energy": 0.627,
         "Explicit": "False",
         "ISRC": "USRC11700675",
         "Instrumentalness": 0,
         "Key": 7,
         "Label": "RCA Records Label",
         "Liveness": 0.0852,
         "Loudness": -6.029,
         "Mode": 1,
         "Popularity": 53,
         "Speechiness": 0.0639,
         "Tempo": 120.963,
         "Time Signature": 4,
         "Track Duration (ms)": 188490,
         "Track Name": "Still Got Time (feat. PARTYNEXTDOOR)",
         "Track Number": 1,
         "Track Preview URL": "https://p.scdn.co/mp3-preview/765e08c9b8930c6d0338c2d3d75c5b1c3efff338?cid=9950ac751e34487dbbe027c4fd7f8e99",
         "Track URI": "spotify:track:000xQL6tZNLJzIrtIgxqSl",
         "Valence": 0.524,
         "_deepnote_index_column": 5
        },
        {
         "Acousticness": 0.133,
         "Added At": "2021-11-17T22:21:05Z",
         "Added By": "spotify:user:bradnumber1",
         "Album Artist Name(s)": "Rita Ora",
         "Album Artist URI(s)": "spotify:artist:5CCwRZC6euC8Odo6y9X8jr",
         "Album Genres": "nan",
         "Album Image URL": "https://i.scdn.co/image/ab67616d0000b273f1b136eb0388414a8225a348",
         "Album Name": "Phoenix (Deluxe Edition)",
         "Album Release Date": "2018-11-23",
         "Album URI": "spotify:album:6Vn8F3hERVHYYz5RfKmsAN",
         "Artist Genres": "dance pop,pop,uk pop",
         "Artist Name(s)": "Rita Ora",
         "Artist URI(s)": "spotify:artist:5CCwRZC6euC8Odo6y9X8jr",
         "Copyrights": "C © 2018 Atlantic Records UK except Track 9 (P) 2018 Asylum/Atlantic Records UK. Tracks 1 & 5 (P) 2017 Atlantic Records UK. Track 4 (P) 2017 Avicii Music AB under exclusive licence to Universal Music AB. Track 8 (P) 2018 Universal Studios, Atlantic Records UK, Capitol Records, a division of Universal Music Operations Limited. Asylum/Atlantic Records UK are divisions of Warner Music UK Limited., P ℗ 2018 Atlantic Records UK except Track 9 (P) 2018 Asylum/Atlantic Records UK. Tracks 1 & 5 (P) 2017 Atlantic Records UK. Track 4 (P) 2017 Avicii Music AB under exclusive licence to Universal Music AB. Track 8 (P) 2018 Universal Studios, Atlantic Records UK, Capitol Records, a division of Universal Music Operations Limited. Asylum/Atlantic Records UK are divisions of Warner Music UK Limited.",
         "Danceability": 0.853,
         "Disc Number": 1,
         "Energy": 0.571,
         "Explicit": "False",
         "ISRC": "GBAHT1700323",
         "Instrumentalness": 0,
         "Key": 1,
         "Label": "Atlantic Records UK",
         "Liveness": 0.0564,
         "Loudness": -5.845,
         "Mode": 1,
         "Popularity": 60,
         "Speechiness": 0.0543,
         "Tempo": 117.991,
         "Time Signature": 4,
         "Track Duration (ms)": 180160,
         "Track Name": "Your Song",
         "Track Number": 5,
         "Track Preview URL": "https://p.scdn.co/mp3-preview/d57008f417a1466ac0ab02020560d4d61d904e80?cid=9950ac751e34487dbbe027c4fd7f8e99",
         "Track URI": "spotify:track:46xkXPGjR9Ig9BcaTUNus3",
         "Valence": 0.958,
         "_deepnote_index_column": 6
        },
        {
         "Acousticness": 0.164,
         "Added At": "2021-08-08T09:26:31Z",
         "Added By": "spotify:user:bradnumber1",
         "Album Artist Name(s)": "Coldplay",
         "Album Artist URI(s)": "spotify:artist:4gzpq5DPGxSnKTe4SA8HAU",
         "Album Genres": "nan",
         "Album Image URL": "https://i.scdn.co/image/ab67616d0000b2734e0362c225863f6ae2432651",
         "Album Name": "X&Y",
         "Album Release Date": "2005-06-07",
         "Album URI": "spotify:album:4E7bV0pzG0LciBSWTszra6",
         "Artist Genres": "permanent wave,pop",
         "Artist Name(s)": "Coldplay",
         "Artist URI(s)": "spotify:artist:4gzpq5DPGxSnKTe4SA8HAU",
         "Copyrights": "C © 2005 Parlophone Records Ltd, a Warner Music Group Company, P ℗ 2005 Parlophone Records Ltd, a Warner Music Group Company",
         "Danceability": 0.209,
         "Disc Number": 1,
         "Energy": 0.417,
         "Explicit": "False",
         "ISRC": "GBAYE0500605",
         "Instrumentalness": 0.00196,
         "Key": 3,
         "Label": "Parlophone Records Limited",
         "Liveness": 0.113,
         "Loudness": -8.74,
         "Mode": 1,
         "Popularity": 83,
         "Speechiness": 0.0338,
         "Tempo": 138.178,
         "Time Signature": 4,
         "Track Duration (ms)": 295533,
         "Track Name": "Fix You",
         "Track Number": 4,
         "Track Preview URL": "https://p.scdn.co/mp3-preview/4ee64ea0fcfc1e6142d3b1e76464e95834fa87dd?cid=9950ac751e34487dbbe027c4fd7f8e99",
         "Track URI": "spotify:track:7LVHVU3tWfcxj5aiPFEW4Q",
         "Valence": 0.124,
         "_deepnote_index_column": 7
        },
        {
         "Acousticness": 0.496,
         "Added At": "2021-08-08T09:26:31Z",
         "Added By": "spotify:user:bradnumber1",
         "Album Artist Name(s)": "Faith Hill",
         "Album Artist URI(s)": "spotify:artist:25NQNriVT2YbSW80ILRWJa",
         "Album Genres": "nan",
         "Album Image URL": "https://i.scdn.co/image/ab67616d0000b2733ee43d5dbf7da3e65be844b3",
         "Album Name": "The Hits",
         "Album Release Date": "2007",
         "Album URI": "spotify:album:7fvl3dOnDrv9rq5IBmLbAa",
         "Artist Genres": "contemporary country,country,country dawn,country road",
         "Artist Name(s)": "Faith Hill",
         "Artist URI(s)": "spotify:artist:25NQNriVT2YbSW80ILRWJa",
         "Copyrights": "C © 2007 Warner Records Inc., P ℗ 1994, 1995, 1998, 1999, 2001, 2002, 2005, 2007 Warner Records Inc.; 2007 Curb Records, Inc.",
         "Danceability": 0.325,
         "Disc Number": 1,
         "Energy": 0.532,
         "Explicit": "False",
         "ISRC": "USWB10704273",
         "Instrumentalness": 0,
         "Key": 8,
         "Label": "Warner Records/Nashville",
         "Liveness": 0.134,
         "Loudness": -7.208,
         "Mode": 1,
         "Popularity": 44,
         "Speechiness": 0.0308,
         "Tempo": 129.021,
         "Time Signature": 4,
         "Track Duration (ms)": 220840,
         "Track Name": "There You'll Be - 2007 Remaster",
         "Track Number": 7,
         "Track Preview URL": "https://p.scdn.co/mp3-preview/a3b43c90cfdf09ed61c5b1622f4a4e6a1f6a00a2?cid=9950ac751e34487dbbe027c4fd7f8e99",
         "Track URI": "spotify:track:1s2khOWzC99udpUaPICLJI",
         "Valence": 0.162,
         "_deepnote_index_column": 8
        },
        {
         "Acousticness": 0.56,
         "Added At": "2021-08-08T09:26:31Z",
         "Added By": "spotify:user:bradnumber1",
         "Album Artist Name(s)": "The Police",
         "Album Artist URI(s)": "spotify:artist:5NGO30tJxFlKixkPSgXcFE",
         "Album Genres": "nan",
         "Album Image URL": "https://i.scdn.co/image/ab67616d0000b273e7b53d0f9fb616521cdbfc03",
         "Album Name": "Synchronicity",
         "Album Release Date": "1983-06-01",
         "Album URI": "spotify:album:7yDxJXFPl88Dt9kBo0dDD6",
         "Artist Genres": "album rock,classic rock,permanent wave,rock",
         "Artist Name(s)": "The Police",
         "Artist URI(s)": "spotify:artist:5NGO30tJxFlKixkPSgXcFE",
         "Copyrights": "C © 2003 A&M Records, P ℗ 2003 A&M Records",
         "Danceability": 0.813,
         "Disc Number": 1,
         "Energy": 0.46,
         "Explicit": "False",
         "ISRC": "GBAAM0201110",
         "Instrumentalness": 0.0105,
         "Key": 1,
         "Label": "A&M",
         "Liveness": 0.0724,
         "Loudness": -9.78,
         "Mode": 1,
         "Popularity": 3,
         "Speechiness": 0.0346,
         "Tempo": 117.387,
         "Time Signature": 4,
         "Track Duration (ms)": 253886,
         "Track Name": "Every Breath You Take - Remastered 2003",
         "Track Number": 7,
         "Track Preview URL": "https://p.scdn.co/mp3-preview/92d7997134bb18b99eb5fdc65926e4ef613f9781?cid=9950ac751e34487dbbe027c4fd7f8e99",
         "Track URI": "spotify:track:2sXp9Qmvc7mRaDBjBgcGGi",
         "Valence": 0.729,
         "_deepnote_index_column": 9
        }
       ]
      },
      "text/html": [
       "<div>\n",
       "<style scoped>\n",
       "    .dataframe tbody tr th:only-of-type {\n",
       "        vertical-align: middle;\n",
       "    }\n",
       "\n",
       "    .dataframe tbody tr th {\n",
       "        vertical-align: top;\n",
       "    }\n",
       "\n",
       "    .dataframe thead th {\n",
       "        text-align: right;\n",
       "    }\n",
       "</style>\n",
       "<table border=\"1\" class=\"dataframe\">\n",
       "  <thead>\n",
       "    <tr style=\"text-align: right;\">\n",
       "      <th></th>\n",
       "      <th>Track URI</th>\n",
       "      <th>Track Name</th>\n",
       "      <th>Artist URI(s)</th>\n",
       "      <th>Artist Name(s)</th>\n",
       "      <th>Album URI</th>\n",
       "      <th>Album Name</th>\n",
       "      <th>Album Artist URI(s)</th>\n",
       "      <th>Album Artist Name(s)</th>\n",
       "      <th>Album Release Date</th>\n",
       "      <th>Album Image URL</th>\n",
       "      <th>...</th>\n",
       "      <th>Speechiness</th>\n",
       "      <th>Acousticness</th>\n",
       "      <th>Instrumentalness</th>\n",
       "      <th>Liveness</th>\n",
       "      <th>Valence</th>\n",
       "      <th>Tempo</th>\n",
       "      <th>Time Signature</th>\n",
       "      <th>Album Genres</th>\n",
       "      <th>Label</th>\n",
       "      <th>Copyrights</th>\n",
       "    </tr>\n",
       "  </thead>\n",
       "  <tbody>\n",
       "    <tr>\n",
       "      <th>0</th>\n",
       "      <td>spotify:track:0vNPJrUrBnMFdCs8b2MTNG</td>\n",
       "      <td>Fader</td>\n",
       "      <td>spotify:artist:4W48hZAnAHVOC2c8WH8pcq</td>\n",
       "      <td>The Temper Trap</td>\n",
       "      <td>spotify:album:0V59MMtgoruvEqMv18KAOH</td>\n",
       "      <td>Conditions (Tour Edition)</td>\n",
       "      <td>spotify:artist:4W48hZAnAHVOC2c8WH8pcq</td>\n",
       "      <td>The Temper Trap</td>\n",
       "      <td>2009</td>\n",
       "      <td>https://i.scdn.co/image/ab67616d0000b273f86ae8...</td>\n",
       "      <td>...</td>\n",
       "      <td>0.0353</td>\n",
       "      <td>0.000101</td>\n",
       "      <td>0.690000</td>\n",
       "      <td>0.0752</td>\n",
       "      <td>0.158</td>\n",
       "      <td>134.974</td>\n",
       "      <td>4.0</td>\n",
       "      <td>NaN</td>\n",
       "      <td>Liberation Records</td>\n",
       "      <td>C 2010 Liberation Music, P 2010 Liberation Music</td>\n",
       "    </tr>\n",
       "    <tr>\n",
       "      <th>1</th>\n",
       "      <td>spotify:track:0NpvdCO506uO58D4AbKzki</td>\n",
       "      <td>Sherry</td>\n",
       "      <td>spotify:artist:6mcrZQmgzFGRWf7C0SObou</td>\n",
       "      <td>Frankie Valli &amp; The Four Seasons</td>\n",
       "      <td>spotify:album:0NUEQILaBzavnzcMEs4buZ</td>\n",
       "      <td>The Very Best of Frankie Valli &amp; The 4 Seasons</td>\n",
       "      <td>spotify:artist:6mcrZQmgzFGRWf7C0SObou</td>\n",
       "      <td>Frankie Valli &amp; The Four Seasons</td>\n",
       "      <td>2003-01-14</td>\n",
       "      <td>https://i.scdn.co/image/ab67616d0000b273b96c21...</td>\n",
       "      <td>...</td>\n",
       "      <td>0.0441</td>\n",
       "      <td>0.626000</td>\n",
       "      <td>0.000000</td>\n",
       "      <td>0.1130</td>\n",
       "      <td>0.734</td>\n",
       "      <td>117.562</td>\n",
       "      <td>4.0</td>\n",
       "      <td>NaN</td>\n",
       "      <td>Rhino</td>\n",
       "      <td>C © 2004 Bob Gaudio &amp; Frankie Valli d/b/a The ...</td>\n",
       "    </tr>\n",
       "    <tr>\n",
       "      <th>2</th>\n",
       "      <td>spotify:track:1MtUq6Wp1eQ8PC6BbPCj8P</td>\n",
       "      <td>I Took A Pill In Ibiza - Seeb Remix</td>\n",
       "      <td>spotify:artist:2KsP6tYLJlTBvSUxnwlVWa, spotify...</td>\n",
       "      <td>Mike Posner, Seeb</td>\n",
       "      <td>spotify:album:1Tz3Ai1guEFf4hV3d9i17K</td>\n",
       "      <td>At Night, Alone.</td>\n",
       "      <td>spotify:artist:2KsP6tYLJlTBvSUxnwlVWa</td>\n",
       "      <td>Mike Posner</td>\n",
       "      <td>2016-05-06</td>\n",
       "      <td>https://i.scdn.co/image/ab67616d0000b273a19be7...</td>\n",
       "      <td>...</td>\n",
       "      <td>0.1110</td>\n",
       "      <td>0.035300</td>\n",
       "      <td>0.000008</td>\n",
       "      <td>0.0843</td>\n",
       "      <td>0.710</td>\n",
       "      <td>101.969</td>\n",
       "      <td>4.0</td>\n",
       "      <td>NaN</td>\n",
       "      <td>Monster Mountain, LLC / Island</td>\n",
       "      <td>C © 2016 Island Records, a division of UMG Rec...</td>\n",
       "    </tr>\n",
       "    <tr>\n",
       "      <th>3</th>\n",
       "      <td>spotify:track:59lq75uFIqzUZcgZ4CbqFG</td>\n",
       "      <td>Let Go for Tonight</td>\n",
       "      <td>spotify:artist:7qRll6DYV06u2VuRPAVqug</td>\n",
       "      <td>Foxes</td>\n",
       "      <td>spotify:album:5AQ7uKRSpAv7SNUl4j24ru</td>\n",
       "      <td>Glorious (Deluxe)</td>\n",
       "      <td>spotify:artist:7qRll6DYV06u2VuRPAVqug</td>\n",
       "      <td>Foxes</td>\n",
       "      <td>2014-05-12</td>\n",
       "      <td>https://i.scdn.co/image/ab67616d0000b273ae5c7d...</td>\n",
       "      <td>...</td>\n",
       "      <td>0.0632</td>\n",
       "      <td>0.042900</td>\n",
       "      <td>0.000002</td>\n",
       "      <td>0.3260</td>\n",
       "      <td>0.299</td>\n",
       "      <td>140.064</td>\n",
       "      <td>4.0</td>\n",
       "      <td>NaN</td>\n",
       "      <td>Sign Of The Times Records</td>\n",
       "      <td>P (P) 2014 Sign Of The Times Limited under exc...</td>\n",
       "    </tr>\n",
       "    <tr>\n",
       "      <th>4</th>\n",
       "      <td>spotify:track:7KdcZQ3GJeGdserhK61kfv</td>\n",
       "      <td>The Way I Want To Touch You</td>\n",
       "      <td>spotify:artist:7BEfMxbaqx6dOpbtlEqScm</td>\n",
       "      <td>Captain &amp; Tennille</td>\n",
       "      <td>spotify:album:3GUxesVyOehInaxJyCTh6d</td>\n",
       "      <td>Love Will Keep Us Together</td>\n",
       "      <td>spotify:artist:7BEfMxbaqx6dOpbtlEqScm</td>\n",
       "      <td>Captain &amp; Tennille</td>\n",
       "      <td>1975-01-01</td>\n",
       "      <td>https://i.scdn.co/image/ab67616d0000b273e21a28...</td>\n",
       "      <td>...</td>\n",
       "      <td>0.0248</td>\n",
       "      <td>0.624000</td>\n",
       "      <td>0.000112</td>\n",
       "      <td>0.3430</td>\n",
       "      <td>0.597</td>\n",
       "      <td>111.290</td>\n",
       "      <td>4.0</td>\n",
       "      <td>NaN</td>\n",
       "      <td>A&amp;M</td>\n",
       "      <td>C © 1975 A&amp;M Records, P This Compilation ℗ 197...</td>\n",
       "    </tr>\n",
       "    <tr>\n",
       "      <th>5</th>\n",
       "      <td>spotify:track:000xQL6tZNLJzIrtIgxqSl</td>\n",
       "      <td>Still Got Time (feat. PARTYNEXTDOOR)</td>\n",
       "      <td>spotify:artist:5ZsFI1h6hIdQRw2ti0hz81, spotify...</td>\n",
       "      <td>ZAYN, PARTYNEXTDOOR</td>\n",
       "      <td>spotify:album:2kGUeTGnkLOYlinKRJe47G</td>\n",
       "      <td>Still Got Time (feat. PARTYNEXTDOOR)</td>\n",
       "      <td>spotify:artist:5ZsFI1h6hIdQRw2ti0hz81</td>\n",
       "      <td>ZAYN</td>\n",
       "      <td>2017-03-23</td>\n",
       "      <td>https://i.scdn.co/image/ab67616d0000b2733bfd91...</td>\n",
       "      <td>...</td>\n",
       "      <td>0.0639</td>\n",
       "      <td>0.131000</td>\n",
       "      <td>0.000000</td>\n",
       "      <td>0.0852</td>\n",
       "      <td>0.524</td>\n",
       "      <td>120.963</td>\n",
       "      <td>4.0</td>\n",
       "      <td>NaN</td>\n",
       "      <td>RCA Records Label</td>\n",
       "      <td>P (P) 2017 RCA Records, a division of Sony Mus...</td>\n",
       "    </tr>\n",
       "    <tr>\n",
       "      <th>6</th>\n",
       "      <td>spotify:track:46xkXPGjR9Ig9BcaTUNus3</td>\n",
       "      <td>Your Song</td>\n",
       "      <td>spotify:artist:5CCwRZC6euC8Odo6y9X8jr</td>\n",
       "      <td>Rita Ora</td>\n",
       "      <td>spotify:album:6Vn8F3hERVHYYz5RfKmsAN</td>\n",
       "      <td>Phoenix (Deluxe Edition)</td>\n",
       "      <td>spotify:artist:5CCwRZC6euC8Odo6y9X8jr</td>\n",
       "      <td>Rita Ora</td>\n",
       "      <td>2018-11-23</td>\n",
       "      <td>https://i.scdn.co/image/ab67616d0000b273f1b136...</td>\n",
       "      <td>...</td>\n",
       "      <td>0.0543</td>\n",
       "      <td>0.133000</td>\n",
       "      <td>0.000000</td>\n",
       "      <td>0.0564</td>\n",
       "      <td>0.958</td>\n",
       "      <td>117.991</td>\n",
       "      <td>4.0</td>\n",
       "      <td>NaN</td>\n",
       "      <td>Atlantic Records UK</td>\n",
       "      <td>C © 2018 Atlantic Records UK except Track 9 (P...</td>\n",
       "    </tr>\n",
       "    <tr>\n",
       "      <th>7</th>\n",
       "      <td>spotify:track:7LVHVU3tWfcxj5aiPFEW4Q</td>\n",
       "      <td>Fix You</td>\n",
       "      <td>spotify:artist:4gzpq5DPGxSnKTe4SA8HAU</td>\n",
       "      <td>Coldplay</td>\n",
       "      <td>spotify:album:4E7bV0pzG0LciBSWTszra6</td>\n",
       "      <td>X&amp;Y</td>\n",
       "      <td>spotify:artist:4gzpq5DPGxSnKTe4SA8HAU</td>\n",
       "      <td>Coldplay</td>\n",
       "      <td>2005-06-07</td>\n",
       "      <td>https://i.scdn.co/image/ab67616d0000b2734e0362...</td>\n",
       "      <td>...</td>\n",
       "      <td>0.0338</td>\n",
       "      <td>0.164000</td>\n",
       "      <td>0.001960</td>\n",
       "      <td>0.1130</td>\n",
       "      <td>0.124</td>\n",
       "      <td>138.178</td>\n",
       "      <td>4.0</td>\n",
       "      <td>NaN</td>\n",
       "      <td>Parlophone Records Limited</td>\n",
       "      <td>C © 2005 Parlophone Records Ltd, a Warner Musi...</td>\n",
       "    </tr>\n",
       "    <tr>\n",
       "      <th>8</th>\n",
       "      <td>spotify:track:1s2khOWzC99udpUaPICLJI</td>\n",
       "      <td>There You'll Be - 2007 Remaster</td>\n",
       "      <td>spotify:artist:25NQNriVT2YbSW80ILRWJa</td>\n",
       "      <td>Faith Hill</td>\n",
       "      <td>spotify:album:7fvl3dOnDrv9rq5IBmLbAa</td>\n",
       "      <td>The Hits</td>\n",
       "      <td>spotify:artist:25NQNriVT2YbSW80ILRWJa</td>\n",
       "      <td>Faith Hill</td>\n",
       "      <td>2007</td>\n",
       "      <td>https://i.scdn.co/image/ab67616d0000b2733ee43d...</td>\n",
       "      <td>...</td>\n",
       "      <td>0.0308</td>\n",
       "      <td>0.496000</td>\n",
       "      <td>0.000000</td>\n",
       "      <td>0.1340</td>\n",
       "      <td>0.162</td>\n",
       "      <td>129.021</td>\n",
       "      <td>4.0</td>\n",
       "      <td>NaN</td>\n",
       "      <td>Warner Records/Nashville</td>\n",
       "      <td>C © 2007 Warner Records Inc., P ℗ 1994, 1995, ...</td>\n",
       "    </tr>\n",
       "    <tr>\n",
       "      <th>9</th>\n",
       "      <td>spotify:track:2sXp9Qmvc7mRaDBjBgcGGi</td>\n",
       "      <td>Every Breath You Take - Remastered 2003</td>\n",
       "      <td>spotify:artist:5NGO30tJxFlKixkPSgXcFE</td>\n",
       "      <td>The Police</td>\n",
       "      <td>spotify:album:7yDxJXFPl88Dt9kBo0dDD6</td>\n",
       "      <td>Synchronicity</td>\n",
       "      <td>spotify:artist:5NGO30tJxFlKixkPSgXcFE</td>\n",
       "      <td>The Police</td>\n",
       "      <td>1983-06-01</td>\n",
       "      <td>https://i.scdn.co/image/ab67616d0000b273e7b53d...</td>\n",
       "      <td>...</td>\n",
       "      <td>0.0346</td>\n",
       "      <td>0.560000</td>\n",
       "      <td>0.010500</td>\n",
       "      <td>0.0724</td>\n",
       "      <td>0.729</td>\n",
       "      <td>117.387</td>\n",
       "      <td>4.0</td>\n",
       "      <td>NaN</td>\n",
       "      <td>A&amp;M</td>\n",
       "      <td>C © 2003 A&amp;M Records, P ℗ 2003 A&amp;M Records</td>\n",
       "    </tr>\n",
       "  </tbody>\n",
       "</table>\n",
       "<p>10 rows × 35 columns</p>\n",
       "</div>"
      ],
      "text/plain": [
       "                              Track URI  \\\n",
       "0  spotify:track:0vNPJrUrBnMFdCs8b2MTNG   \n",
       "1  spotify:track:0NpvdCO506uO58D4AbKzki   \n",
       "2  spotify:track:1MtUq6Wp1eQ8PC6BbPCj8P   \n",
       "3  spotify:track:59lq75uFIqzUZcgZ4CbqFG   \n",
       "4  spotify:track:7KdcZQ3GJeGdserhK61kfv   \n",
       "5  spotify:track:000xQL6tZNLJzIrtIgxqSl   \n",
       "6  spotify:track:46xkXPGjR9Ig9BcaTUNus3   \n",
       "7  spotify:track:7LVHVU3tWfcxj5aiPFEW4Q   \n",
       "8  spotify:track:1s2khOWzC99udpUaPICLJI   \n",
       "9  spotify:track:2sXp9Qmvc7mRaDBjBgcGGi   \n",
       "\n",
       "                                Track Name  \\\n",
       "0                                    Fader   \n",
       "1                                   Sherry   \n",
       "2      I Took A Pill In Ibiza - Seeb Remix   \n",
       "3                       Let Go for Tonight   \n",
       "4              The Way I Want To Touch You   \n",
       "5     Still Got Time (feat. PARTYNEXTDOOR)   \n",
       "6                                Your Song   \n",
       "7                                  Fix You   \n",
       "8          There You'll Be - 2007 Remaster   \n",
       "9  Every Breath You Take - Remastered 2003   \n",
       "\n",
       "                                       Artist URI(s)  \\\n",
       "0              spotify:artist:4W48hZAnAHVOC2c8WH8pcq   \n",
       "1              spotify:artist:6mcrZQmgzFGRWf7C0SObou   \n",
       "2  spotify:artist:2KsP6tYLJlTBvSUxnwlVWa, spotify...   \n",
       "3              spotify:artist:7qRll6DYV06u2VuRPAVqug   \n",
       "4              spotify:artist:7BEfMxbaqx6dOpbtlEqScm   \n",
       "5  spotify:artist:5ZsFI1h6hIdQRw2ti0hz81, spotify...   \n",
       "6              spotify:artist:5CCwRZC6euC8Odo6y9X8jr   \n",
       "7              spotify:artist:4gzpq5DPGxSnKTe4SA8HAU   \n",
       "8              spotify:artist:25NQNriVT2YbSW80ILRWJa   \n",
       "9              spotify:artist:5NGO30tJxFlKixkPSgXcFE   \n",
       "\n",
       "                     Artist Name(s)                             Album URI  \\\n",
       "0                   The Temper Trap  spotify:album:0V59MMtgoruvEqMv18KAOH   \n",
       "1  Frankie Valli & The Four Seasons  spotify:album:0NUEQILaBzavnzcMEs4buZ   \n",
       "2                 Mike Posner, Seeb  spotify:album:1Tz3Ai1guEFf4hV3d9i17K   \n",
       "3                             Foxes  spotify:album:5AQ7uKRSpAv7SNUl4j24ru   \n",
       "4                Captain & Tennille  spotify:album:3GUxesVyOehInaxJyCTh6d   \n",
       "5               ZAYN, PARTYNEXTDOOR  spotify:album:2kGUeTGnkLOYlinKRJe47G   \n",
       "6                          Rita Ora  spotify:album:6Vn8F3hERVHYYz5RfKmsAN   \n",
       "7                          Coldplay  spotify:album:4E7bV0pzG0LciBSWTszra6   \n",
       "8                        Faith Hill  spotify:album:7fvl3dOnDrv9rq5IBmLbAa   \n",
       "9                        The Police  spotify:album:7yDxJXFPl88Dt9kBo0dDD6   \n",
       "\n",
       "                                       Album Name  \\\n",
       "0                       Conditions (Tour Edition)   \n",
       "1  The Very Best of Frankie Valli & The 4 Seasons   \n",
       "2                                At Night, Alone.   \n",
       "3                               Glorious (Deluxe)   \n",
       "4                      Love Will Keep Us Together   \n",
       "5            Still Got Time (feat. PARTYNEXTDOOR)   \n",
       "6                        Phoenix (Deluxe Edition)   \n",
       "7                                             X&Y   \n",
       "8                                        The Hits   \n",
       "9                                   Synchronicity   \n",
       "\n",
       "                     Album Artist URI(s)              Album Artist Name(s)  \\\n",
       "0  spotify:artist:4W48hZAnAHVOC2c8WH8pcq                   The Temper Trap   \n",
       "1  spotify:artist:6mcrZQmgzFGRWf7C0SObou  Frankie Valli & The Four Seasons   \n",
       "2  spotify:artist:2KsP6tYLJlTBvSUxnwlVWa                       Mike Posner   \n",
       "3  spotify:artist:7qRll6DYV06u2VuRPAVqug                             Foxes   \n",
       "4  spotify:artist:7BEfMxbaqx6dOpbtlEqScm                Captain & Tennille   \n",
       "5  spotify:artist:5ZsFI1h6hIdQRw2ti0hz81                              ZAYN   \n",
       "6  spotify:artist:5CCwRZC6euC8Odo6y9X8jr                          Rita Ora   \n",
       "7  spotify:artist:4gzpq5DPGxSnKTe4SA8HAU                          Coldplay   \n",
       "8  spotify:artist:25NQNriVT2YbSW80ILRWJa                        Faith Hill   \n",
       "9  spotify:artist:5NGO30tJxFlKixkPSgXcFE                        The Police   \n",
       "\n",
       "  Album Release Date                                    Album Image URL  ...  \\\n",
       "0               2009  https://i.scdn.co/image/ab67616d0000b273f86ae8...  ...   \n",
       "1         2003-01-14  https://i.scdn.co/image/ab67616d0000b273b96c21...  ...   \n",
       "2         2016-05-06  https://i.scdn.co/image/ab67616d0000b273a19be7...  ...   \n",
       "3         2014-05-12  https://i.scdn.co/image/ab67616d0000b273ae5c7d...  ...   \n",
       "4         1975-01-01  https://i.scdn.co/image/ab67616d0000b273e21a28...  ...   \n",
       "5         2017-03-23  https://i.scdn.co/image/ab67616d0000b2733bfd91...  ...   \n",
       "6         2018-11-23  https://i.scdn.co/image/ab67616d0000b273f1b136...  ...   \n",
       "7         2005-06-07  https://i.scdn.co/image/ab67616d0000b2734e0362...  ...   \n",
       "8               2007  https://i.scdn.co/image/ab67616d0000b2733ee43d...  ...   \n",
       "9         1983-06-01  https://i.scdn.co/image/ab67616d0000b273e7b53d...  ...   \n",
       "\n",
       "   Speechiness  Acousticness  Instrumentalness Liveness  Valence    Tempo  \\\n",
       "0       0.0353      0.000101          0.690000   0.0752    0.158  134.974   \n",
       "1       0.0441      0.626000          0.000000   0.1130    0.734  117.562   \n",
       "2       0.1110      0.035300          0.000008   0.0843    0.710  101.969   \n",
       "3       0.0632      0.042900          0.000002   0.3260    0.299  140.064   \n",
       "4       0.0248      0.624000          0.000112   0.3430    0.597  111.290   \n",
       "5       0.0639      0.131000          0.000000   0.0852    0.524  120.963   \n",
       "6       0.0543      0.133000          0.000000   0.0564    0.958  117.991   \n",
       "7       0.0338      0.164000          0.001960   0.1130    0.124  138.178   \n",
       "8       0.0308      0.496000          0.000000   0.1340    0.162  129.021   \n",
       "9       0.0346      0.560000          0.010500   0.0724    0.729  117.387   \n",
       "\n",
       "  Time Signature Album Genres                           Label  \\\n",
       "0            4.0          NaN              Liberation Records   \n",
       "1            4.0          NaN                           Rhino   \n",
       "2            4.0          NaN  Monster Mountain, LLC / Island   \n",
       "3            4.0          NaN       Sign Of The Times Records   \n",
       "4            4.0          NaN                             A&M   \n",
       "5            4.0          NaN               RCA Records Label   \n",
       "6            4.0          NaN             Atlantic Records UK   \n",
       "7            4.0          NaN      Parlophone Records Limited   \n",
       "8            4.0          NaN        Warner Records/Nashville   \n",
       "9            4.0          NaN                             A&M   \n",
       "\n",
       "                                          Copyrights  \n",
       "0   C 2010 Liberation Music, P 2010 Liberation Music  \n",
       "1  C © 2004 Bob Gaudio & Frankie Valli d/b/a The ...  \n",
       "2  C © 2016 Island Records, a division of UMG Rec...  \n",
       "3  P (P) 2014 Sign Of The Times Limited under exc...  \n",
       "4  C © 1975 A&M Records, P This Compilation ℗ 197...  \n",
       "5  P (P) 2017 RCA Records, a division of Sony Mus...  \n",
       "6  C © 2018 Atlantic Records UK except Track 9 (P...  \n",
       "7  C © 2005 Parlophone Records Ltd, a Warner Musi...  \n",
       "8  C © 2007 Warner Records Inc., P ℗ 1994, 1995, ...  \n",
       "9         C © 2003 A&M Records, P ℗ 2003 A&M Records  \n",
       "\n",
       "[10 rows x 35 columns]"
      ]
     },
     "execution_count": 3,
     "metadata": {},
     "output_type": "execute_result"
    }
   ],
   "source": [
    "top_10000_train.head(10)"
   ]
  },
  {
   "cell_type": "code",
   "execution_count": 4,
   "metadata": {
    "cell_id": "27c05a3132534373a7cc87932d44d393",
    "deepnote_cell_type": "code",
    "execution_context_id": "9e9758dd-d6d1-4fbf-bfc9-7df99f4931a8",
    "execution_millis": 2,
    "execution_start": 1732292466249,
    "source_hash": "dde44f3"
   },
   "outputs": [
    {
     "data": {
      "application/vnd.deepnote.dataframe.v3+json": {
       "column_count": 14,
       "columns": [
        {
         "dtype": "object",
         "name": "ts",
         "stats": {
          "categories": [
           {
            "count": 1,
            "name": "2021-09-04T10:12:23Z"
           },
           {
            "count": 1,
            "name": "2021-09-04T10:16:20Z"
           },
           {
            "count": 8,
            "name": "8 others"
           }
          ],
          "nan_count": 0,
          "unique_count": 10
         }
        },
        {
         "dtype": "object",
         "name": "platform",
         "stats": {
          "categories": [
           {
            "count": 10,
            "name": "Windows 10 (10.0.22000; x64; AppX)"
           }
          ],
          "nan_count": 0,
          "unique_count": 1
         }
        },
        {
         "dtype": "int64",
         "name": "ms_played",
         "stats": {
          "histogram": [
           {
            "bin_end": 30188.4,
            "bin_start": 7130,
            "count": 3
           },
           {
            "bin_end": 53246.8,
            "bin_start": 30188.4,
            "count": 2
           },
           {
            "bin_end": 76305.20000000001,
            "bin_start": 53246.8,
            "count": 1
           },
           {
            "bin_end": 99363.6,
            "bin_start": 76305.20000000001,
            "count": 0
           },
           {
            "bin_end": 122422,
            "bin_start": 99363.6,
            "count": 0
           },
           {
            "bin_end": 145480.40000000002,
            "bin_start": 122422,
            "count": 1
           },
           {
            "bin_end": 168538.80000000002,
            "bin_start": 145480.40000000002,
            "count": 1
           },
           {
            "bin_end": 191597.2,
            "bin_start": 168538.80000000002,
            "count": 0
           },
           {
            "bin_end": 214655.6,
            "bin_start": 191597.2,
            "count": 1
           },
           {
            "bin_end": 237714,
            "bin_start": 214655.6,
            "count": 1
           }
          ],
          "max": "237714",
          "min": "7130",
          "nan_count": 0,
          "unique_count": 10
         }
        },
        {
         "dtype": "object",
         "name": "conn_country",
         "stats": {
          "categories": [
           {
            "count": 10,
            "name": "LK"
           }
          ],
          "nan_count": 0,
          "unique_count": 1
         }
        },
        {
         "dtype": "object",
         "name": "master_metadata_track_name",
         "stats": {
          "categories": [
           {
            "count": 1,
            "name": "Broke In A Minute"
           },
           {
            "count": 1,
            "name": "Bonnona"
           },
           {
            "count": 8,
            "name": "8 others"
           }
          ],
          "nan_count": 0,
          "unique_count": 10
         }
        },
        {
         "dtype": "object",
         "name": "master_metadata_album_artist_name",
         "stats": {
          "categories": [
           {
            "count": 1,
            "name": "Tory Lanez"
           },
           {
            "count": 1,
            "name": "DJ JNK"
           },
           {
            "count": 8,
            "name": "8 others"
           }
          ],
          "nan_count": 0,
          "unique_count": 10
         }
        },
        {
         "dtype": "object",
         "name": "master_metadata_album_album_name",
         "stats": {
          "categories": [
           {
            "count": 1,
            "name": "The New Toronto 3"
           },
           {
            "count": 1,
            "name": "Bonnona"
           },
           {
            "count": 8,
            "name": "8 others"
           }
          ],
          "nan_count": 0,
          "unique_count": 10
         }
        },
        {
         "dtype": "object",
         "name": "spotify_track_uri",
         "stats": {
          "categories": [
           {
            "count": 1,
            "name": "spotify:track:4xqIYGwwZTEem9U8A42SPF"
           },
           {
            "count": 1,
            "name": "spotify:track:6ahGShWSkIHVoBd278gYnC"
           },
           {
            "count": 8,
            "name": "8 others"
           }
          ],
          "nan_count": 0,
          "unique_count": 10
         }
        },
        {
         "dtype": "object",
         "name": "reason_start",
         "stats": {
          "categories": [
           {
            "count": 5,
            "name": "clickrow"
           },
           {
            "count": 4,
            "name": "trackdone"
           },
           {
            "count": 1,
            "name": "playbtn"
           }
          ],
          "nan_count": 0,
          "unique_count": 3
         }
        },
        {
         "dtype": "object",
         "name": "reason_end",
         "stats": {
          "categories": [
           {
            "count": 4,
            "name": "endplay"
           },
           {
            "count": 4,
            "name": "trackdone"
           },
           {
            "count": 2,
            "name": "logout"
           }
          ],
          "nan_count": 0,
          "unique_count": 3
         }
        },
        {
         "dtype": "bool",
         "name": "shuffle",
         "stats": {
          "categories": [
           {
            "count": 10,
            "name": "False"
           }
          ],
          "nan_count": 0,
          "unique_count": 1
         }
        },
        {
         "dtype": "bool",
         "name": "offline",
         "stats": {
          "categories": [
           {
            "count": 10,
            "name": "False"
           }
          ],
          "nan_count": 0,
          "unique_count": 1
         }
        },
        {
         "dtype": "int64",
         "name": "offline_timestamp",
         "stats": {
          "histogram": [
           {
            "bin_end": 1630750569322.5,
            "bin_start": 1630750333278,
            "count": 2
           },
           {
            "bin_end": 1630750805367,
            "bin_start": 1630750569322.5,
            "count": 3
           },
           {
            "bin_end": 1630751041411.5,
            "bin_start": 1630750805367,
            "count": 1
           },
           {
            "bin_end": 1630751277456,
            "bin_start": 1630751041411.5,
            "count": 0
           },
           {
            "bin_end": 1630751513500.5,
            "bin_start": 1630751277456,
            "count": 0
           },
           {
            "bin_end": 1630751749545,
            "bin_start": 1630751513500.5,
            "count": 0
           },
           {
            "bin_end": 1630751985589.5,
            "bin_start": 1630751749545,
            "count": 0
           },
           {
            "bin_end": 1630752221634,
            "bin_start": 1630751985589.5,
            "count": 0
           },
           {
            "bin_end": 1630752457678.5,
            "bin_start": 1630752221634,
            "count": 1
           },
           {
            "bin_end": 1630752693723,
            "bin_start": 1630752457678.5,
            "count": 3
           }
          ],
          "max": "1630752693723",
          "min": "1630750333278",
          "nan_count": 0,
          "unique_count": 10
         }
        },
        {
         "dtype": "bool",
         "name": "incognito_mode",
         "stats": {
          "categories": [
           {
            "count": 10,
            "name": "False"
           }
          ],
          "nan_count": 0,
          "unique_count": 1
         }
        },
        {
         "dtype": "int64",
         "name": "_deepnote_index_column"
        }
       ],
       "row_count": 10,
       "rows": [
        {
         "_deepnote_index_column": 0,
         "conn_country": "LK",
         "incognito_mode": "False",
         "master_metadata_album_album_name": "The New Toronto 3",
         "master_metadata_album_artist_name": "Tory Lanez",
         "master_metadata_track_name": "Broke In A Minute",
         "ms_played": 7130,
         "offline": "False",
         "offline_timestamp": 1630750333278,
         "platform": "Windows 10 (10.0.22000; x64; AppX)",
         "reason_end": "endplay",
         "reason_start": "playbtn",
         "shuffle": "False",
         "spotify_track_uri": "spotify:track:4xqIYGwwZTEem9U8A42SPF",
         "ts": "2021-09-04T10:12:23Z"
        },
        {
         "_deepnote_index_column": 1,
         "conn_country": "LK",
         "incognito_mode": "False",
         "master_metadata_album_album_name": "Bonnona",
         "master_metadata_album_artist_name": "DJ JNK",
         "master_metadata_track_name": "Bonnona",
         "ms_played": 237714,
         "offline": "False",
         "offline_timestamp": 1630750341690,
         "platform": "Windows 10 (10.0.22000; x64; AppX)",
         "reason_end": "trackdone",
         "reason_start": "clickrow",
         "shuffle": "False",
         "spotify_track_uri": "spotify:track:6ahGShWSkIHVoBd278gYnC",
         "ts": "2021-09-04T10:16:20Z"
        },
        {
         "_deepnote_index_column": 2,
         "conn_country": "LK",
         "incognito_mode": "False",
         "master_metadata_album_album_name": "Chart Backing Tracks 2017, Vol. 14",
         "master_metadata_album_artist_name": "Covered Up",
         "master_metadata_track_name": "Broken People (Originally Performed by Logic & Rag'n'Bone Man) - Instrumental",
         "ms_played": 47045,
         "offline": "False",
         "offline_timestamp": 1630750578721,
         "platform": "Windows 10 (10.0.22000; x64; AppX)",
         "reason_end": "endplay",
         "reason_start": "trackdone",
         "shuffle": "False",
         "spotify_track_uri": "spotify:track:0MONybFd78nzNA7Au93yb2",
         "ts": "2021-09-04T10:17:08Z"
        },
        {
         "_deepnote_index_column": 3,
         "conn_country": "LK",
         "incognito_mode": "False",
         "master_metadata_album_album_name": "Chou Ikimonobakari Tennen Kinen Members Best Selection",
         "master_metadata_album_artist_name": "Ikimonogakari",
         "master_metadata_track_name": "ブルーバード",
         "ms_played": 32500,
         "offline": "False",
         "offline_timestamp": 1630750627276,
         "platform": "Windows 10 (10.0.22000; x64; AppX)",
         "reason_end": "endplay",
         "reason_start": "clickrow",
         "shuffle": "False",
         "spotify_track_uri": "spotify:track:2XpV9sHBexcNrz0Gyf3l18",
         "ts": "2021-09-04T10:19:41Z"
        },
        {
         "_deepnote_index_column": 4,
         "conn_country": "LK",
         "incognito_mode": "False",
         "master_metadata_album_album_name": "The Bones",
         "master_metadata_album_artist_name": "Maren Morris",
         "master_metadata_track_name": "The Bones - with Hozier",
         "ms_played": 197298,
         "offline": "False",
         "offline_timestamp": 1630750779709,
         "platform": "Windows 10 (10.0.22000; x64; AppX)",
         "reason_end": "trackdone",
         "reason_start": "clickrow",
         "shuffle": "False",
         "spotify_track_uri": "spotify:track:1yTTMcUhL7rtz08Dsgb7Qb",
         "ts": "2021-09-04T10:22:57Z"
        },
        {
         "_deepnote_index_column": 5,
         "conn_country": "LK",
         "incognito_mode": "False",
         "master_metadata_album_album_name": "New Music 2020 Chart",
         "master_metadata_album_artist_name": "PARTYNEXTDOOR",
         "master_metadata_track_name": "BELIEVE IT",
         "ms_played": 9351,
         "offline": "False",
         "offline_timestamp": 1630750976396,
         "platform": "Windows 10 (10.0.22000; x64; AppX)",
         "reason_end": "logout",
         "reason_start": "trackdone",
         "shuffle": "False",
         "spotify_track_uri": "spotify:track:4vLUkw4SPpvzMBlxiykT8B",
         "ts": "2021-09-04T10:33:41Z"
        },
        {
         "_deepnote_index_column": 6,
         "conn_country": "LK",
         "incognito_mode": "False",
         "master_metadata_album_album_name": "Camelot",
         "master_metadata_album_artist_name": "NLE Choppa",
         "master_metadata_track_name": "Camelot",
         "ms_played": 148759,
         "offline": "False",
         "offline_timestamp": 1630752392325,
         "platform": "Windows 10 (10.0.22000; x64; AppX)",
         "reason_end": "trackdone",
         "reason_start": "clickrow",
         "shuffle": "False",
         "spotify_track_uri": "spotify:track:4sWuPniHClkInYAnzXAYUF",
         "ts": "2021-09-04T10:49:02Z"
        },
        {
         "_deepnote_index_column": 7,
         "conn_country": "LK",
         "incognito_mode": "False",
         "master_metadata_album_album_name": "Coffee",
         "master_metadata_album_artist_name": "beabadoobee",
         "master_metadata_track_name": "Coffee",
         "ms_played": 126824,
         "offline": "False",
         "offline_timestamp": 1630752541046,
         "platform": "Windows 10 (10.0.22000; x64; AppX)",
         "reason_end": "trackdone",
         "reason_start": "trackdone",
         "shuffle": "False",
         "spotify_track_uri": "spotify:track:429NtPmr12aypzFH3FkN9l",
         "ts": "2021-09-04T10:51:09Z"
        },
        {
         "_deepnote_index_column": 8,
         "conn_country": "LK",
         "incognito_mode": "False",
         "master_metadata_album_album_name": "Chicken Tenders",
         "master_metadata_album_artist_name": "Dominic Fike",
         "master_metadata_track_name": "Chicken Tenders",
         "ms_played": 23866,
         "offline": "False",
         "offline_timestamp": 1630752668386,
         "platform": "Windows 10 (10.0.22000; x64; AppX)",
         "reason_end": "endplay",
         "reason_start": "trackdone",
         "shuffle": "False",
         "spotify_track_uri": "spotify:track:3D8sT8D3f5egWSQnF0fbqu",
         "ts": "2021-09-04T10:51:35Z"
        },
        {
         "_deepnote_index_column": 9,
         "conn_country": "LK",
         "incognito_mode": "False",
         "master_metadata_album_album_name": "Certified Lover Boy",
         "master_metadata_album_artist_name": "Drake",
         "master_metadata_track_name": "Girls Want Girls (with Lil Baby)",
         "ms_played": 54750,
         "offline": "False",
         "offline_timestamp": 1630752693723,
         "platform": "Windows 10 (10.0.22000; x64; AppX)",
         "reason_end": "logout",
         "reason_start": "clickrow",
         "shuffle": "False",
         "spotify_track_uri": "spotify:track:37Nqx7iavZpotJSDXZWbJ3",
         "ts": "2021-09-04T11:35:27Z"
        }
       ]
      },
      "text/html": [
       "<div>\n",
       "<style scoped>\n",
       "    .dataframe tbody tr th:only-of-type {\n",
       "        vertical-align: middle;\n",
       "    }\n",
       "\n",
       "    .dataframe tbody tr th {\n",
       "        vertical-align: top;\n",
       "    }\n",
       "\n",
       "    .dataframe thead th {\n",
       "        text-align: right;\n",
       "    }\n",
       "</style>\n",
       "<table border=\"1\" class=\"dataframe\">\n",
       "  <thead>\n",
       "    <tr style=\"text-align: right;\">\n",
       "      <th></th>\n",
       "      <th>ts</th>\n",
       "      <th>platform</th>\n",
       "      <th>ms_played</th>\n",
       "      <th>conn_country</th>\n",
       "      <th>master_metadata_track_name</th>\n",
       "      <th>master_metadata_album_artist_name</th>\n",
       "      <th>master_metadata_album_album_name</th>\n",
       "      <th>spotify_track_uri</th>\n",
       "      <th>reason_start</th>\n",
       "      <th>reason_end</th>\n",
       "      <th>shuffle</th>\n",
       "      <th>offline</th>\n",
       "      <th>offline_timestamp</th>\n",
       "      <th>incognito_mode</th>\n",
       "    </tr>\n",
       "  </thead>\n",
       "  <tbody>\n",
       "    <tr>\n",
       "      <th>0</th>\n",
       "      <td>2021-09-04T10:12:23Z</td>\n",
       "      <td>Windows 10 (10.0.22000; x64; AppX)</td>\n",
       "      <td>7130</td>\n",
       "      <td>LK</td>\n",
       "      <td>Broke In A Minute</td>\n",
       "      <td>Tory Lanez</td>\n",
       "      <td>The New Toronto 3</td>\n",
       "      <td>spotify:track:4xqIYGwwZTEem9U8A42SPF</td>\n",
       "      <td>playbtn</td>\n",
       "      <td>endplay</td>\n",
       "      <td>False</td>\n",
       "      <td>False</td>\n",
       "      <td>1630750333278</td>\n",
       "      <td>False</td>\n",
       "    </tr>\n",
       "    <tr>\n",
       "      <th>1</th>\n",
       "      <td>2021-09-04T10:16:20Z</td>\n",
       "      <td>Windows 10 (10.0.22000; x64; AppX)</td>\n",
       "      <td>237714</td>\n",
       "      <td>LK</td>\n",
       "      <td>Bonnona</td>\n",
       "      <td>DJ JNK</td>\n",
       "      <td>Bonnona</td>\n",
       "      <td>spotify:track:6ahGShWSkIHVoBd278gYnC</td>\n",
       "      <td>clickrow</td>\n",
       "      <td>trackdone</td>\n",
       "      <td>False</td>\n",
       "      <td>False</td>\n",
       "      <td>1630750341690</td>\n",
       "      <td>False</td>\n",
       "    </tr>\n",
       "    <tr>\n",
       "      <th>2</th>\n",
       "      <td>2021-09-04T10:17:08Z</td>\n",
       "      <td>Windows 10 (10.0.22000; x64; AppX)</td>\n",
       "      <td>47045</td>\n",
       "      <td>LK</td>\n",
       "      <td>Broken People (Originally Performed by Logic &amp;...</td>\n",
       "      <td>Covered Up</td>\n",
       "      <td>Chart Backing Tracks 2017, Vol. 14</td>\n",
       "      <td>spotify:track:0MONybFd78nzNA7Au93yb2</td>\n",
       "      <td>trackdone</td>\n",
       "      <td>endplay</td>\n",
       "      <td>False</td>\n",
       "      <td>False</td>\n",
       "      <td>1630750578721</td>\n",
       "      <td>False</td>\n",
       "    </tr>\n",
       "    <tr>\n",
       "      <th>3</th>\n",
       "      <td>2021-09-04T10:19:41Z</td>\n",
       "      <td>Windows 10 (10.0.22000; x64; AppX)</td>\n",
       "      <td>32500</td>\n",
       "      <td>LK</td>\n",
       "      <td>ブルーバード</td>\n",
       "      <td>Ikimonogakari</td>\n",
       "      <td>Chou Ikimonobakari Tennen Kinen Members Best S...</td>\n",
       "      <td>spotify:track:2XpV9sHBexcNrz0Gyf3l18</td>\n",
       "      <td>clickrow</td>\n",
       "      <td>endplay</td>\n",
       "      <td>False</td>\n",
       "      <td>False</td>\n",
       "      <td>1630750627276</td>\n",
       "      <td>False</td>\n",
       "    </tr>\n",
       "    <tr>\n",
       "      <th>4</th>\n",
       "      <td>2021-09-04T10:22:57Z</td>\n",
       "      <td>Windows 10 (10.0.22000; x64; AppX)</td>\n",
       "      <td>197298</td>\n",
       "      <td>LK</td>\n",
       "      <td>The Bones - with Hozier</td>\n",
       "      <td>Maren Morris</td>\n",
       "      <td>The Bones</td>\n",
       "      <td>spotify:track:1yTTMcUhL7rtz08Dsgb7Qb</td>\n",
       "      <td>clickrow</td>\n",
       "      <td>trackdone</td>\n",
       "      <td>False</td>\n",
       "      <td>False</td>\n",
       "      <td>1630750779709</td>\n",
       "      <td>False</td>\n",
       "    </tr>\n",
       "    <tr>\n",
       "      <th>5</th>\n",
       "      <td>2021-09-04T10:33:41Z</td>\n",
       "      <td>Windows 10 (10.0.22000; x64; AppX)</td>\n",
       "      <td>9351</td>\n",
       "      <td>LK</td>\n",
       "      <td>BELIEVE IT</td>\n",
       "      <td>PARTYNEXTDOOR</td>\n",
       "      <td>New Music 2020 Chart</td>\n",
       "      <td>spotify:track:4vLUkw4SPpvzMBlxiykT8B</td>\n",
       "      <td>trackdone</td>\n",
       "      <td>logout</td>\n",
       "      <td>False</td>\n",
       "      <td>False</td>\n",
       "      <td>1630750976396</td>\n",
       "      <td>False</td>\n",
       "    </tr>\n",
       "    <tr>\n",
       "      <th>6</th>\n",
       "      <td>2021-09-04T10:49:02Z</td>\n",
       "      <td>Windows 10 (10.0.22000; x64; AppX)</td>\n",
       "      <td>148759</td>\n",
       "      <td>LK</td>\n",
       "      <td>Camelot</td>\n",
       "      <td>NLE Choppa</td>\n",
       "      <td>Camelot</td>\n",
       "      <td>spotify:track:4sWuPniHClkInYAnzXAYUF</td>\n",
       "      <td>clickrow</td>\n",
       "      <td>trackdone</td>\n",
       "      <td>False</td>\n",
       "      <td>False</td>\n",
       "      <td>1630752392325</td>\n",
       "      <td>False</td>\n",
       "    </tr>\n",
       "    <tr>\n",
       "      <th>7</th>\n",
       "      <td>2021-09-04T10:51:09Z</td>\n",
       "      <td>Windows 10 (10.0.22000; x64; AppX)</td>\n",
       "      <td>126824</td>\n",
       "      <td>LK</td>\n",
       "      <td>Coffee</td>\n",
       "      <td>beabadoobee</td>\n",
       "      <td>Coffee</td>\n",
       "      <td>spotify:track:429NtPmr12aypzFH3FkN9l</td>\n",
       "      <td>trackdone</td>\n",
       "      <td>trackdone</td>\n",
       "      <td>False</td>\n",
       "      <td>False</td>\n",
       "      <td>1630752541046</td>\n",
       "      <td>False</td>\n",
       "    </tr>\n",
       "    <tr>\n",
       "      <th>8</th>\n",
       "      <td>2021-09-04T10:51:35Z</td>\n",
       "      <td>Windows 10 (10.0.22000; x64; AppX)</td>\n",
       "      <td>23866</td>\n",
       "      <td>LK</td>\n",
       "      <td>Chicken Tenders</td>\n",
       "      <td>Dominic Fike</td>\n",
       "      <td>Chicken Tenders</td>\n",
       "      <td>spotify:track:3D8sT8D3f5egWSQnF0fbqu</td>\n",
       "      <td>trackdone</td>\n",
       "      <td>endplay</td>\n",
       "      <td>False</td>\n",
       "      <td>False</td>\n",
       "      <td>1630752668386</td>\n",
       "      <td>False</td>\n",
       "    </tr>\n",
       "    <tr>\n",
       "      <th>9</th>\n",
       "      <td>2021-09-04T11:35:27Z</td>\n",
       "      <td>Windows 10 (10.0.22000; x64; AppX)</td>\n",
       "      <td>54750</td>\n",
       "      <td>LK</td>\n",
       "      <td>Girls Want Girls (with Lil Baby)</td>\n",
       "      <td>Drake</td>\n",
       "      <td>Certified Lover Boy</td>\n",
       "      <td>spotify:track:37Nqx7iavZpotJSDXZWbJ3</td>\n",
       "      <td>clickrow</td>\n",
       "      <td>logout</td>\n",
       "      <td>False</td>\n",
       "      <td>False</td>\n",
       "      <td>1630752693723</td>\n",
       "      <td>False</td>\n",
       "    </tr>\n",
       "  </tbody>\n",
       "</table>\n",
       "</div>"
      ],
      "text/plain": [
       "                     ts                            platform  ms_played  \\\n",
       "0  2021-09-04T10:12:23Z  Windows 10 (10.0.22000; x64; AppX)       7130   \n",
       "1  2021-09-04T10:16:20Z  Windows 10 (10.0.22000; x64; AppX)     237714   \n",
       "2  2021-09-04T10:17:08Z  Windows 10 (10.0.22000; x64; AppX)      47045   \n",
       "3  2021-09-04T10:19:41Z  Windows 10 (10.0.22000; x64; AppX)      32500   \n",
       "4  2021-09-04T10:22:57Z  Windows 10 (10.0.22000; x64; AppX)     197298   \n",
       "5  2021-09-04T10:33:41Z  Windows 10 (10.0.22000; x64; AppX)       9351   \n",
       "6  2021-09-04T10:49:02Z  Windows 10 (10.0.22000; x64; AppX)     148759   \n",
       "7  2021-09-04T10:51:09Z  Windows 10 (10.0.22000; x64; AppX)     126824   \n",
       "8  2021-09-04T10:51:35Z  Windows 10 (10.0.22000; x64; AppX)      23866   \n",
       "9  2021-09-04T11:35:27Z  Windows 10 (10.0.22000; x64; AppX)      54750   \n",
       "\n",
       "  conn_country                         master_metadata_track_name  \\\n",
       "0           LK                                  Broke In A Minute   \n",
       "1           LK                                            Bonnona   \n",
       "2           LK  Broken People (Originally Performed by Logic &...   \n",
       "3           LK                                             ブルーバード   \n",
       "4           LK                            The Bones - with Hozier   \n",
       "5           LK                                         BELIEVE IT   \n",
       "6           LK                                            Camelot   \n",
       "7           LK                                             Coffee   \n",
       "8           LK                                    Chicken Tenders   \n",
       "9           LK                   Girls Want Girls (with Lil Baby)   \n",
       "\n",
       "  master_metadata_album_artist_name  \\\n",
       "0                        Tory Lanez   \n",
       "1                            DJ JNK   \n",
       "2                        Covered Up   \n",
       "3                     Ikimonogakari   \n",
       "4                      Maren Morris   \n",
       "5                     PARTYNEXTDOOR   \n",
       "6                        NLE Choppa   \n",
       "7                       beabadoobee   \n",
       "8                      Dominic Fike   \n",
       "9                             Drake   \n",
       "\n",
       "                    master_metadata_album_album_name  \\\n",
       "0                                  The New Toronto 3   \n",
       "1                                            Bonnona   \n",
       "2                 Chart Backing Tracks 2017, Vol. 14   \n",
       "3  Chou Ikimonobakari Tennen Kinen Members Best S...   \n",
       "4                                          The Bones   \n",
       "5                               New Music 2020 Chart   \n",
       "6                                            Camelot   \n",
       "7                                             Coffee   \n",
       "8                                    Chicken Tenders   \n",
       "9                                Certified Lover Boy   \n",
       "\n",
       "                      spotify_track_uri reason_start reason_end  shuffle  \\\n",
       "0  spotify:track:4xqIYGwwZTEem9U8A42SPF      playbtn    endplay    False   \n",
       "1  spotify:track:6ahGShWSkIHVoBd278gYnC     clickrow  trackdone    False   \n",
       "2  spotify:track:0MONybFd78nzNA7Au93yb2    trackdone    endplay    False   \n",
       "3  spotify:track:2XpV9sHBexcNrz0Gyf3l18     clickrow    endplay    False   \n",
       "4  spotify:track:1yTTMcUhL7rtz08Dsgb7Qb     clickrow  trackdone    False   \n",
       "5  spotify:track:4vLUkw4SPpvzMBlxiykT8B    trackdone     logout    False   \n",
       "6  spotify:track:4sWuPniHClkInYAnzXAYUF     clickrow  trackdone    False   \n",
       "7  spotify:track:429NtPmr12aypzFH3FkN9l    trackdone  trackdone    False   \n",
       "8  spotify:track:3D8sT8D3f5egWSQnF0fbqu    trackdone    endplay    False   \n",
       "9  spotify:track:37Nqx7iavZpotJSDXZWbJ3     clickrow     logout    False   \n",
       "\n",
       "   offline  offline_timestamp  incognito_mode  \n",
       "0    False      1630750333278           False  \n",
       "1    False      1630750341690           False  \n",
       "2    False      1630750578721           False  \n",
       "3    False      1630750627276           False  \n",
       "4    False      1630750779709           False  \n",
       "5    False      1630750976396           False  \n",
       "6    False      1630752392325           False  \n",
       "7    False      1630752541046           False  \n",
       "8    False      1630752668386           False  \n",
       "9    False      1630752693723           False  "
      ]
     },
     "execution_count": 4,
     "metadata": {},
     "output_type": "execute_result"
    }
   ],
   "source": [
    "user_history_train.head(10)"
   ]
  },
  {
   "cell_type": "code",
   "execution_count": 7,
   "metadata": {
    "cell_id": "21ca370062a744499c7122f8a2cd6537",
    "deepnote_cell_type": "code",
    "execution_context_id": "9e9758dd-d6d1-4fbf-bfc9-7df99f4931a8",
    "execution_millis": 0,
    "execution_start": 1732292827417,
    "source_hash": "b0965b4c"
   },
   "outputs": [],
   "source": [
    "def plot_training_data(df, column, n):\n",
    "    value_counts = df[column].value_counts()\n",
    "    top_n = value_counts.head(n)\n",
    "\n",
    "    plt.figure(figsize=(10, 5))\n",
    "    top_n.plot(kind='bar', color='skyblue')\n",
    "    plt.title(f'Top {n} {column} values')\n",
    "    plt.xlabel(column)\n",
    "    plt.ylabel('Count')\n",
    "    plt.xticks(rotation=45, ha='right')\n",
    "    plt.tight_layout()\n",
    "    plt.show()"
   ]
  },
  {
   "cell_type": "code",
   "execution_count": 11,
   "metadata": {
    "cell_id": "2bb835e6b9d34584a44c3d334c2cd6d7",
    "deepnote_cell_type": "code",
    "execution_context_id": "9e9758dd-d6d1-4fbf-bfc9-7df99f4931a8",
    "execution_millis": 1919,
    "execution_start": 1732293111024,
    "source_hash": "f217fc54"
   },
   "outputs": [
    {
     "data": {
      "image/png": "[encoded data removed]",
      "text/plain": [
       "<Figure size 1000x500 with 1 Axes>"
      ]
     },
     "metadata": {
      "image/png": {
       "height": 490,
       "width": 989
      }
     },
     "output_type": "display_data"
    },
    {
     "data": {
      "image/png": "[encoded data removed]",
      "text/plain": [
       "<Figure size 1000x500 with 1 Axes>"
      ]
     },
     "metadata": {
      "image/png": {
       "height": 490,
       "width": 989
      }
     },
     "output_type": "display_data"
    },
    {
     "data": {
      "image/png": "[encoded data removed]",
      "text/plain": [
       "<Figure size 1000x500 with 1 Axes>"
      ]
     },
     "metadata": {
      "image/png": {
       "height": 490,
       "width": 989
      }
     },
     "output_type": "display_data"
    },
    {
     "data": {
      "image/png": "[encoded data removed]",
      "text/plain": [
       "<Figure size 1000x500 with 1 Axes>"
      ]
     },
     "metadata": {
      "image/png": {
       "height": 490,
       "width": 989
      }
     },
     "output_type": "display_data"
    },
    {
     "data": {
      "image/png": "[encoded data removed]",
      "text/plain": [
       "<Figure size 1000x500 with 1 Axes>"
      ]
     },
     "metadata": {
      "image/png": {
       "height": 490,
       "width": 989
      }
     },
     "output_type": "display_data"
    }
   ],
   "source": [
    "plot_training_data(user_history_train, \"master_metadata_album_artist_name\", n=10)\n",
    "plot_training_data(user_history_train, \"reason_start\", n=5)\n",
    "plot_training_data(user_history_train, \"reason_end\", n=5)\n",
    "plot_training_data(top_10000_train, \"Artist Name(s)\", n=10)\n",
    "plot_training_data(top_10000_train, \"Artist Genres\", n=10)\n"
   ]
  },
  {
   "cell_type": "markdown",
   "metadata": {
    "created_in_deepnote_cell": true,
    "deepnote_cell_type": "markdown"
   },
   "source": [
    "<a style='text-decoration:none;line-height:16px;display:flex;color:#5B5B62;padding:10px;justify-content:end;' href='https://deepnote.com?utm_source=created-in-deepnote-cell&projectId=33c5d346-6bff-45f7-af8d-4b44c857ba6b' target=\"_blank\">\n",
    "<img alt='Created in deepnote.com' style='display:inline;max-height:16px;margin:0px;margin-right:7.5px;' src='data:image/svg+xml;base64,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' > </img>\n",
    "Created in <span style='font-weight:600;margin-left:4px;'>Deepnote</span></a>"
   ]
  }
 ],
 "metadata": {
  "deepnote_notebook_id": "1ed0c7599112496b91f7d8e354fdf1b6",
  "kernelspec": {
   "display_name": ".venv",
   "language": "python",
   "name": "python3"
  },
  "language_info": {
   "name": "python",
   "version": "3.12.6"
  }
 },
 "nbformat": 4,
 "nbformat_minor": 0
}
