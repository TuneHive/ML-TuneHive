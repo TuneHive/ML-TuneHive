{
 "cells": [
  {
   "cell_type": "code",
   "execution_count": null,
   "metadata": {},
   "outputs": [],
   "source": [
    "import tensorflow as tf\n",
    "from sklearn.model_selection import train_test_split\n",
    "import tensorflow_datasets as tfds\n",
    "from keras.api.layers import Dense, Embedding, Activation\n",
    "from keras.api import Input\n",
    "from keras.api.models import Model\n",
    "from transformers.models.bert import TFBertTokenizer, TFBertEmbeddings  # embedding and tokenizer for description/nlp related stuff"
   ]
  },
  {
   "cell_type": "code",
   "execution_count": null,
   "metadata": {},
   "outputs": [
    {
     "name": "stdout",
     "output_type": "stream",
     "text": [
      "pipreqs  --force .\n"
     ]
    },
    {
     "name": "stderr",
     "output_type": "stream",
     "text": [
      "INFO: Not scanning for jupyter notebooks.\n",
      "<unknown>:165: SyntaxWarning: invalid escape sequence '\\S'\n",
      "<unknown>:166: SyntaxWarning: invalid escape sequence '\\['\n",
      "<unknown>:207: SyntaxWarning: invalid escape sequence '\\['\n",
      "<unknown>:456: SyntaxWarning: invalid escape sequence '\\S'\n",
      "Traceback (most recent call last):\n",
      "  File \"<frozen runpy>\", line 198, in _run_module_as_main\n",
      "  File \"<frozen runpy>\", line 88, in _run_code\n",
      "  File \"e:\\Haidar\\bangkit\\capstone\\ML-TuneHive\\model-dev\\.venv\\Scripts\\pipreqs.exe\\__main__.py\", line 7, in <module>\n",
      "  File \"E:\\Haidar\\bangkit\\capstone\\ML-TuneHive\\model-dev\\.venv\\Lib\\site-packages\\pipreqs\\pipreqs.py\", line 609, in main\n",
      "    init(args)\n",
      "  File \"E:\\Haidar\\bangkit\\capstone\\ML-TuneHive\\model-dev\\.venv\\Lib\\site-packages\\pipreqs\\pipreqs.py\", line 533, in init\n",
      "    candidates = get_all_imports(\n",
      "                 ^^^^^^^^^^^^^^^^\n",
      "  File \"E:\\Haidar\\bangkit\\capstone\\ML-TuneHive\\model-dev\\.venv\\Lib\\site-packages\\pipreqs\\pipreqs.py\", line 136, in get_all_imports\n",
      "    contents = read_file_content(file_name, encoding)\n",
      "               ^^^^^^^^^^^^^^^^^^^^^^^^^^^^^^^^^^^^^^\n",
      "  File \"E:\\Haidar\\bangkit\\capstone\\ML-TuneHive\\model-dev\\.venv\\Lib\\site-packages\\pipreqs\\pipreqs.py\", line 181, in read_file_content\n",
      "    contents = f.read()\n",
      "               ^^^^^^^^\n",
      "  File \"<frozen codecs>\", line 322, in decode\n",
      "UnicodeDecodeError: 'utf-8' codec can't decode byte 0xb1 in position 81: invalid start byte\n"
     ]
    }
   ],
   "source": [
    "# !pipreqsnb . --force"
   ]
  },
  {
   "cell_type": "code",
   "execution_count": null,
   "metadata": {},
   "outputs": [],
   "source": []
  }
 ],
 "metadata": {
  "kernelspec": {
   "display_name": ".venv",
   "language": "python",
   "name": "python3"
  },
  "language_info": {
   "codemirror_mode": {
    "name": "ipython",
    "version": 3
   },
   "file_extension": ".py",
   "mimetype": "text/x-python",
   "name": "python",
   "nbconvert_exporter": "python",
   "pygments_lexer": "ipython3",
   "version": "3.12.6"
  }
 },
 "nbformat": 4,
 "nbformat_minor": 2
}
